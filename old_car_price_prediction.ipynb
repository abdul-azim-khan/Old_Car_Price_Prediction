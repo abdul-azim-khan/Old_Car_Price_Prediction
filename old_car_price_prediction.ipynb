{
 "cells": [
  {
   "cell_type": "code",
   "execution_count": 1,
   "metadata": {
    "executionInfo": {
     "elapsed": 1266,
     "status": "ok",
     "timestamp": 1628491912992,
     "user": {
      "displayName": "Abdul Azim Khan",
      "photoUrl": "",
      "userId": "07649404245608822143"
     },
     "user_tz": -330
    },
    "id": "9UOh90jg6T_e"
   },
   "outputs": [],
   "source": [
    "# Importing libraries\n",
    "import pandas as pd \n",
    "import numpy as np\n",
    "import seaborn as sns\n",
    "import matplotlib.pyplot as plt\n",
    "%matplotlib inline\n"
   ]
  },
  {
   "cell_type": "code",
   "execution_count": 2,
   "metadata": {
    "executionInfo": {
     "elapsed": 61,
     "status": "ok",
     "timestamp": 1628491913746,
     "user": {
      "displayName": "Abdul Azim Khan",
      "photoUrl": "",
      "userId": "07649404245608822143"
     },
     "user_tz": -330
    },
    "id": "1rB_AR5tAi4j"
   },
   "outputs": [],
   "source": [
    "sns.set_style('darkgrid')\n",
    "colors=[\"red\",\"orange\",\"green\",\"navy\",\"blue\",\"aqua\",\"purple\",\"fuchsia\"]"
   ]
  },
  {
   "cell_type": "code",
   "execution_count": 3,
   "metadata": {
    "executionInfo": {
     "elapsed": 64,
     "status": "ok",
     "timestamp": 1628491913751,
     "user": {
      "displayName": "Abdul Azim Khan",
      "photoUrl": "",
      "userId": "07649404245608822143"
     },
     "user_tz": -330
    },
    "id": "tVf8eKC3Al86"
   },
   "outputs": [],
   "source": [
    "# Supressing warnings\n",
    "import warnings\n",
    "warnings.filterwarnings(\"ignore\")"
   ]
  },
  {
   "cell_type": "code",
   "execution_count": 4,
   "metadata": {
    "executionInfo": {
     "elapsed": 72,
     "status": "ok",
     "timestamp": 1628491913760,
     "user": {
      "displayName": "Abdul Azim Khan",
      "photoUrl": "",
      "userId": "07649404245608822143"
     },
     "user_tz": -330
    },
    "id": "l0SFQw0M7zAr"
   },
   "outputs": [],
   "source": [
    "df = pd.read_csv(r\"F:\\abdulazimkhan\\BI\\Capstone_Project_BI\\capstone_2\\car-data.csv\")"
   ]
  },
  {
   "cell_type": "code",
   "execution_count": 5,
   "metadata": {
    "colab": {
     "base_uri": "https://localhost:8080/",
     "height": 204
    },
    "executionInfo": {
     "elapsed": 72,
     "status": "ok",
     "timestamp": 1628491913761,
     "user": {
      "displayName": "Abdul Azim Khan",
      "photoUrl": "",
      "userId": "07649404245608822143"
     },
     "user_tz": -330
    },
    "id": "G5UtMjGA7zDK",
    "outputId": "8f673c75-1e62-4f1b-8309-8ef92266b3d1"
   },
   "outputs": [
    {
     "data": {
      "text/html": [
       "<div>\n",
       "<style scoped>\n",
       "    .dataframe tbody tr th:only-of-type {\n",
       "        vertical-align: middle;\n",
       "    }\n",
       "\n",
       "    .dataframe tbody tr th {\n",
       "        vertical-align: top;\n",
       "    }\n",
       "\n",
       "    .dataframe thead th {\n",
       "        text-align: right;\n",
       "    }\n",
       "</style>\n",
       "<table border=\"1\" class=\"dataframe\">\n",
       "  <thead>\n",
       "    <tr style=\"text-align: right;\">\n",
       "      <th></th>\n",
       "      <th>year</th>\n",
       "      <th>price</th>\n",
       "      <th>transmission</th>\n",
       "      <th>mileage</th>\n",
       "      <th>fuelType</th>\n",
       "      <th>tax</th>\n",
       "      <th>mpg</th>\n",
       "      <th>engineSize</th>\n",
       "    </tr>\n",
       "  </thead>\n",
       "  <tbody>\n",
       "    <tr>\n",
       "      <th>0</th>\n",
       "      <td>2019</td>\n",
       "      <td>25000</td>\n",
       "      <td>Automatic</td>\n",
       "      <td>13904</td>\n",
       "      <td>Diesel</td>\n",
       "      <td>145</td>\n",
       "      <td>49.6</td>\n",
       "      <td>2.0</td>\n",
       "    </tr>\n",
       "    <tr>\n",
       "      <th>1</th>\n",
       "      <td>2019</td>\n",
       "      <td>26883</td>\n",
       "      <td>Automatic</td>\n",
       "      <td>4562</td>\n",
       "      <td>Diesel</td>\n",
       "      <td>145</td>\n",
       "      <td>49.6</td>\n",
       "      <td>2.0</td>\n",
       "    </tr>\n",
       "    <tr>\n",
       "      <th>2</th>\n",
       "      <td>2019</td>\n",
       "      <td>20000</td>\n",
       "      <td>Manual</td>\n",
       "      <td>7414</td>\n",
       "      <td>Diesel</td>\n",
       "      <td>145</td>\n",
       "      <td>50.4</td>\n",
       "      <td>2.0</td>\n",
       "    </tr>\n",
       "    <tr>\n",
       "      <th>3</th>\n",
       "      <td>2019</td>\n",
       "      <td>33492</td>\n",
       "      <td>Automatic</td>\n",
       "      <td>4825</td>\n",
       "      <td>Petrol</td>\n",
       "      <td>145</td>\n",
       "      <td>32.5</td>\n",
       "      <td>2.0</td>\n",
       "    </tr>\n",
       "    <tr>\n",
       "      <th>4</th>\n",
       "      <td>2019</td>\n",
       "      <td>22900</td>\n",
       "      <td>Semi-Auto</td>\n",
       "      <td>6500</td>\n",
       "      <td>Petrol</td>\n",
       "      <td>150</td>\n",
       "      <td>39.8</td>\n",
       "      <td>1.5</td>\n",
       "    </tr>\n",
       "  </tbody>\n",
       "</table>\n",
       "</div>"
      ],
      "text/plain": [
       "   year  price transmission  mileage fuelType  tax   mpg  engineSize\n",
       "0  2019  25000    Automatic    13904   Diesel  145  49.6         2.0\n",
       "1  2019  26883    Automatic     4562   Diesel  145  49.6         2.0\n",
       "2  2019  20000       Manual     7414   Diesel  145  50.4         2.0\n",
       "3  2019  33492    Automatic     4825   Petrol  145  32.5         2.0\n",
       "4  2019  22900    Semi-Auto     6500   Petrol  150  39.8         1.5"
      ]
     },
     "execution_count": 5,
     "metadata": {},
     "output_type": "execute_result"
    }
   ],
   "source": [
    "df.head()"
   ]
  },
  {
   "cell_type": "code",
   "execution_count": 6,
   "metadata": {
    "colab": {
     "base_uri": "https://localhost:8080/"
    },
    "executionInfo": {
     "elapsed": 1039,
     "status": "ok",
     "timestamp": 1628491914732,
     "user": {
      "displayName": "Abdul Azim Khan",
      "photoUrl": "",
      "userId": "07649404245608822143"
     },
     "user_tz": -330
    },
    "id": "FZDkHHA37zIb",
    "outputId": "9483f008-c06e-4543-e77e-5ef8ef68f259"
   },
   "outputs": [
    {
     "data": {
      "text/plain": [
       "year            0\n",
       "price           0\n",
       "transmission    0\n",
       "mileage         0\n",
       "fuelType        0\n",
       "tax             0\n",
       "mpg             0\n",
       "engineSize      0\n",
       "dtype: int64"
      ]
     },
     "execution_count": 6,
     "metadata": {},
     "output_type": "execute_result"
    }
   ],
   "source": [
    "df.isnull().sum()\n",
    "# No null values found"
   ]
  },
  {
   "cell_type": "code",
   "execution_count": 7,
   "metadata": {
    "colab": {
     "base_uri": "https://localhost:8080/"
    },
    "executionInfo": {
     "elapsed": 280,
     "status": "ok",
     "timestamp": 1628491914736,
     "user": {
      "displayName": "Abdul Azim Khan",
      "photoUrl": "",
      "userId": "07649404245608822143"
     },
     "user_tz": -330
    },
    "id": "bkHFr7Lk7zJz",
    "outputId": "cc9e2db1-a11b-419b-df13-0a1f03217700"
   },
   "outputs": [
    {
     "data": {
      "text/plain": [
       "year               21\n",
       "price            3970\n",
       "transmission        3\n",
       "mileage         10760\n",
       "fuelType            4\n",
       "tax                32\n",
       "mpg                86\n",
       "engineSize         12\n",
       "dtype: int64"
      ]
     },
     "execution_count": 7,
     "metadata": {},
     "output_type": "execute_result"
    }
   ],
   "source": [
    "df.nunique()"
   ]
  },
  {
   "cell_type": "code",
   "execution_count": 8,
   "metadata": {
    "colab": {
     "base_uri": "https://localhost:8080/",
     "height": 419
    },
    "executionInfo": {
     "elapsed": 268,
     "status": "ok",
     "timestamp": 1628491914738,
     "user": {
      "displayName": "Abdul Azim Khan",
      "photoUrl": "",
      "userId": "07649404245608822143"
     },
     "user_tz": -330
    },
    "id": "lceDGOlJ7zN9",
    "outputId": "8affa9cb-357f-4eb4-f71e-79a60e850afd"
   },
   "outputs": [
    {
     "data": {
      "text/html": [
       "<div>\n",
       "<style scoped>\n",
       "    .dataframe tbody tr th:only-of-type {\n",
       "        vertical-align: middle;\n",
       "    }\n",
       "\n",
       "    .dataframe tbody tr th {\n",
       "        vertical-align: top;\n",
       "    }\n",
       "\n",
       "    .dataframe thead th {\n",
       "        text-align: right;\n",
       "    }\n",
       "</style>\n",
       "<table border=\"1\" class=\"dataframe\">\n",
       "  <thead>\n",
       "    <tr style=\"text-align: right;\">\n",
       "      <th></th>\n",
       "      <th>year</th>\n",
       "      <th>price</th>\n",
       "      <th>transmission</th>\n",
       "      <th>mileage</th>\n",
       "      <th>fuelType</th>\n",
       "      <th>tax</th>\n",
       "      <th>mpg</th>\n",
       "      <th>engineSize</th>\n",
       "    </tr>\n",
       "  </thead>\n",
       "  <tbody>\n",
       "    <tr>\n",
       "      <th>40</th>\n",
       "      <td>2018</td>\n",
       "      <td>18695</td>\n",
       "      <td>Manual</td>\n",
       "      <td>6753</td>\n",
       "      <td>Petrol</td>\n",
       "      <td>145</td>\n",
       "      <td>53.3</td>\n",
       "      <td>1.5</td>\n",
       "    </tr>\n",
       "    <tr>\n",
       "      <th>45</th>\n",
       "      <td>2018</td>\n",
       "      <td>17995</td>\n",
       "      <td>Manual</td>\n",
       "      <td>14837</td>\n",
       "      <td>Petrol</td>\n",
       "      <td>145</td>\n",
       "      <td>53.3</td>\n",
       "      <td>1.5</td>\n",
       "    </tr>\n",
       "    <tr>\n",
       "      <th>46</th>\n",
       "      <td>2018</td>\n",
       "      <td>17995</td>\n",
       "      <td>Manual</td>\n",
       "      <td>14337</td>\n",
       "      <td>Petrol</td>\n",
       "      <td>145</td>\n",
       "      <td>53.3</td>\n",
       "      <td>1.5</td>\n",
       "    </tr>\n",
       "    <tr>\n",
       "      <th>48</th>\n",
       "      <td>2019</td>\n",
       "      <td>22230</td>\n",
       "      <td>Manual</td>\n",
       "      <td>3392</td>\n",
       "      <td>Diesel</td>\n",
       "      <td>145</td>\n",
       "      <td>50.4</td>\n",
       "      <td>2.0</td>\n",
       "    </tr>\n",
       "    <tr>\n",
       "      <th>61</th>\n",
       "      <td>2019</td>\n",
       "      <td>25990</td>\n",
       "      <td>Semi-Auto</td>\n",
       "      <td>2423</td>\n",
       "      <td>Diesel</td>\n",
       "      <td>145</td>\n",
       "      <td>49.6</td>\n",
       "      <td>2.0</td>\n",
       "    </tr>\n",
       "    <tr>\n",
       "      <th>...</th>\n",
       "      <td>...</td>\n",
       "      <td>...</td>\n",
       "      <td>...</td>\n",
       "      <td>...</td>\n",
       "      <td>...</td>\n",
       "      <td>...</td>\n",
       "      <td>...</td>\n",
       "      <td>...</td>\n",
       "    </tr>\n",
       "    <tr>\n",
       "      <th>14477</th>\n",
       "      <td>2019</td>\n",
       "      <td>19360</td>\n",
       "      <td>Semi-Auto</td>\n",
       "      <td>4401</td>\n",
       "      <td>Diesel</td>\n",
       "      <td>145</td>\n",
       "      <td>50.4</td>\n",
       "      <td>2.0</td>\n",
       "    </tr>\n",
       "    <tr>\n",
       "      <th>14495</th>\n",
       "      <td>2019</td>\n",
       "      <td>22798</td>\n",
       "      <td>Manual</td>\n",
       "      <td>10</td>\n",
       "      <td>Petrol</td>\n",
       "      <td>145</td>\n",
       "      <td>43.5</td>\n",
       "      <td>1.5</td>\n",
       "    </tr>\n",
       "    <tr>\n",
       "      <th>14498</th>\n",
       "      <td>2019</td>\n",
       "      <td>23998</td>\n",
       "      <td>Semi-Auto</td>\n",
       "      <td>10</td>\n",
       "      <td>Diesel</td>\n",
       "      <td>145</td>\n",
       "      <td>50.4</td>\n",
       "      <td>2.0</td>\n",
       "    </tr>\n",
       "    <tr>\n",
       "      <th>14499</th>\n",
       "      <td>2019</td>\n",
       "      <td>21998</td>\n",
       "      <td>Semi-Auto</td>\n",
       "      <td>10</td>\n",
       "      <td>Petrol</td>\n",
       "      <td>145</td>\n",
       "      <td>42.8</td>\n",
       "      <td>1.5</td>\n",
       "    </tr>\n",
       "    <tr>\n",
       "      <th>14693</th>\n",
       "      <td>2016</td>\n",
       "      <td>7999</td>\n",
       "      <td>Manual</td>\n",
       "      <td>50777</td>\n",
       "      <td>Diesel</td>\n",
       "      <td>0</td>\n",
       "      <td>72.4</td>\n",
       "      <td>1.6</td>\n",
       "    </tr>\n",
       "  </tbody>\n",
       "</table>\n",
       "<p>264 rows × 8 columns</p>\n",
       "</div>"
      ],
      "text/plain": [
       "       year  price transmission  mileage fuelType  tax   mpg  engineSize\n",
       "40     2018  18695       Manual     6753   Petrol  145  53.3         1.5\n",
       "45     2018  17995       Manual    14837   Petrol  145  53.3         1.5\n",
       "46     2018  17995       Manual    14337   Petrol  145  53.3         1.5\n",
       "48     2019  22230       Manual     3392   Diesel  145  50.4         2.0\n",
       "61     2019  25990    Semi-Auto     2423   Diesel  145  49.6         2.0\n",
       "...     ...    ...          ...      ...      ...  ...   ...         ...\n",
       "14477  2019  19360    Semi-Auto     4401   Diesel  145  50.4         2.0\n",
       "14495  2019  22798       Manual       10   Petrol  145  43.5         1.5\n",
       "14498  2019  23998    Semi-Auto       10   Diesel  145  50.4         2.0\n",
       "14499  2019  21998    Semi-Auto       10   Petrol  145  42.8         1.5\n",
       "14693  2016   7999       Manual    50777   Diesel    0  72.4         1.6\n",
       "\n",
       "[264 rows x 8 columns]"
      ]
     },
     "execution_count": 8,
     "metadata": {},
     "output_type": "execute_result"
    }
   ],
   "source": [
    "df[df.duplicated()]"
   ]
  },
  {
   "cell_type": "markdown",
   "metadata": {
    "id": "nJXpJqqB_a6t"
   },
   "source": [
    "### So there are few duplicate values.\n"
   ]
  },
  {
   "cell_type": "code",
   "execution_count": 9,
   "metadata": {
    "colab": {
     "base_uri": "https://localhost:8080/",
     "height": 49
    },
    "executionInfo": {
     "elapsed": 269,
     "status": "ok",
     "timestamp": 1628491914742,
     "user": {
      "displayName": "Abdul Azim Khan",
      "photoUrl": "",
      "userId": "07649404245608822143"
     },
     "user_tz": -330
    },
    "id": "XvuBvFKL7zQY",
    "outputId": "cc258805-28b2-48f0-e755-70b00d45e61e"
   },
   "outputs": [
    {
     "data": {
      "text/html": [
       "<div>\n",
       "<style scoped>\n",
       "    .dataframe tbody tr th:only-of-type {\n",
       "        vertical-align: middle;\n",
       "    }\n",
       "\n",
       "    .dataframe tbody tr th {\n",
       "        vertical-align: top;\n",
       "    }\n",
       "\n",
       "    .dataframe thead th {\n",
       "        text-align: right;\n",
       "    }\n",
       "</style>\n",
       "<table border=\"1\" class=\"dataframe\">\n",
       "  <thead>\n",
       "    <tr style=\"text-align: right;\">\n",
       "      <th></th>\n",
       "      <th>year</th>\n",
       "      <th>price</th>\n",
       "      <th>transmission</th>\n",
       "      <th>mileage</th>\n",
       "      <th>fuelType</th>\n",
       "      <th>tax</th>\n",
       "      <th>mpg</th>\n",
       "      <th>engineSize</th>\n",
       "    </tr>\n",
       "  </thead>\n",
       "  <tbody>\n",
       "  </tbody>\n",
       "</table>\n",
       "</div>"
      ],
      "text/plain": [
       "Empty DataFrame\n",
       "Columns: [year, price, transmission, mileage, fuelType, tax, mpg, engineSize]\n",
       "Index: []"
      ]
     },
     "execution_count": 9,
     "metadata": {},
     "output_type": "execute_result"
    }
   ],
   "source": [
    "df.drop_duplicates(keep=\"first\",inplace=True)\n",
    "df[df.duplicated()]"
   ]
  },
  {
   "cell_type": "code",
   "execution_count": 10,
   "metadata": {
    "colab": {
     "base_uri": "https://localhost:8080/"
    },
    "executionInfo": {
     "elapsed": 268,
     "status": "ok",
     "timestamp": 1628491914746,
     "user": {
      "displayName": "Abdul Azim Khan",
      "photoUrl": "",
      "userId": "07649404245608822143"
     },
     "user_tz": -330
    },
    "id": "1Sc70pp27zUe",
    "outputId": "165f91a1-5489-4321-fa7e-1f8bbcfdad83"
   },
   "outputs": [
    {
     "name": "stdout",
     "output_type": "stream",
     "text": [
      "<class 'pandas.core.frame.DataFrame'>\n",
      "Int64Index: 14893 entries, 0 to 15156\n",
      "Data columns (total 8 columns):\n",
      " #   Column        Non-Null Count  Dtype  \n",
      "---  ------        --------------  -----  \n",
      " 0   year          14893 non-null  int64  \n",
      " 1   price         14893 non-null  int64  \n",
      " 2   transmission  14893 non-null  object \n",
      " 3   mileage       14893 non-null  int64  \n",
      " 4   fuelType      14893 non-null  object \n",
      " 5   tax           14893 non-null  int64  \n",
      " 6   mpg           14893 non-null  float64\n",
      " 7   engineSize    14893 non-null  float64\n",
      "dtypes: float64(2), int64(4), object(2)\n",
      "memory usage: 1.0+ MB\n"
     ]
    }
   ],
   "source": [
    "df.info()"
   ]
  },
  {
   "cell_type": "code",
   "execution_count": 11,
   "metadata": {
    "executionInfo": {
     "elapsed": 270,
     "status": "ok",
     "timestamp": 1628491914753,
     "user": {
      "displayName": "Abdul Azim Khan",
      "photoUrl": "",
      "userId": "07649404245608822143"
     },
     "user_tz": -330
    },
    "id": "i_9ZKx2q_lr5"
   },
   "outputs": [],
   "source": [
    "# importing date class from datetime module\n",
    "from datetime import date\n",
    "\n",
    "current_year = date.today().year"
   ]
  },
  {
   "cell_type": "code",
   "execution_count": 12,
   "metadata": {
    "colab": {
     "base_uri": "https://localhost:8080/"
    },
    "executionInfo": {
     "elapsed": 271,
     "status": "ok",
     "timestamp": 1628491914755,
     "user": {
      "displayName": "Abdul Azim Khan",
      "photoUrl": "",
      "userId": "07649404245608822143"
     },
     "user_tz": -330
    },
    "id": "rPkJ0GQN_uSU",
    "outputId": "5ebca7ab-25b8-42f9-882d-ac232016648a"
   },
   "outputs": [
    {
     "data": {
      "text/plain": [
       "2021"
      ]
     },
     "execution_count": 12,
     "metadata": {},
     "output_type": "execute_result"
    }
   ],
   "source": [
    "current_year"
   ]
  },
  {
   "cell_type": "code",
   "execution_count": 13,
   "metadata": {
    "executionInfo": {
     "elapsed": 267,
     "status": "ok",
     "timestamp": 1628491914756,
     "user": {
      "displayName": "Abdul Azim Khan",
      "photoUrl": "",
      "userId": "07649404245608822143"
     },
     "user_tz": -330
    },
    "id": "J6nlynKI_iFi"
   },
   "outputs": [],
   "source": [
    " df[\"age\"]=(current_year)-(df[\"year\"])"
   ]
  },
  {
   "cell_type": "code",
   "execution_count": 14,
   "metadata": {
    "colab": {
     "base_uri": "https://localhost:8080/",
     "height": 204
    },
    "executionInfo": {
     "elapsed": 267,
     "status": "ok",
     "timestamp": 1628491914757,
     "user": {
      "displayName": "Abdul Azim Khan",
      "photoUrl": "",
      "userId": "07649404245608822143"
     },
     "user_tz": -330
    },
    "id": "ZkD31VoZAKgK",
    "outputId": "c6b4c0f1-5b0c-4f09-fefc-3f59ff8869da"
   },
   "outputs": [
    {
     "data": {
      "text/html": [
       "<div>\n",
       "<style scoped>\n",
       "    .dataframe tbody tr th:only-of-type {\n",
       "        vertical-align: middle;\n",
       "    }\n",
       "\n",
       "    .dataframe tbody tr th {\n",
       "        vertical-align: top;\n",
       "    }\n",
       "\n",
       "    .dataframe thead th {\n",
       "        text-align: right;\n",
       "    }\n",
       "</style>\n",
       "<table border=\"1\" class=\"dataframe\">\n",
       "  <thead>\n",
       "    <tr style=\"text-align: right;\">\n",
       "      <th></th>\n",
       "      <th>year</th>\n",
       "      <th>price</th>\n",
       "      <th>transmission</th>\n",
       "      <th>mileage</th>\n",
       "      <th>fuelType</th>\n",
       "      <th>tax</th>\n",
       "      <th>mpg</th>\n",
       "      <th>engineSize</th>\n",
       "      <th>age</th>\n",
       "    </tr>\n",
       "  </thead>\n",
       "  <tbody>\n",
       "    <tr>\n",
       "      <th>0</th>\n",
       "      <td>2019</td>\n",
       "      <td>25000</td>\n",
       "      <td>Automatic</td>\n",
       "      <td>13904</td>\n",
       "      <td>Diesel</td>\n",
       "      <td>145</td>\n",
       "      <td>49.6</td>\n",
       "      <td>2.0</td>\n",
       "      <td>2</td>\n",
       "    </tr>\n",
       "    <tr>\n",
       "      <th>1</th>\n",
       "      <td>2019</td>\n",
       "      <td>26883</td>\n",
       "      <td>Automatic</td>\n",
       "      <td>4562</td>\n",
       "      <td>Diesel</td>\n",
       "      <td>145</td>\n",
       "      <td>49.6</td>\n",
       "      <td>2.0</td>\n",
       "      <td>2</td>\n",
       "    </tr>\n",
       "    <tr>\n",
       "      <th>2</th>\n",
       "      <td>2019</td>\n",
       "      <td>20000</td>\n",
       "      <td>Manual</td>\n",
       "      <td>7414</td>\n",
       "      <td>Diesel</td>\n",
       "      <td>145</td>\n",
       "      <td>50.4</td>\n",
       "      <td>2.0</td>\n",
       "      <td>2</td>\n",
       "    </tr>\n",
       "    <tr>\n",
       "      <th>3</th>\n",
       "      <td>2019</td>\n",
       "      <td>33492</td>\n",
       "      <td>Automatic</td>\n",
       "      <td>4825</td>\n",
       "      <td>Petrol</td>\n",
       "      <td>145</td>\n",
       "      <td>32.5</td>\n",
       "      <td>2.0</td>\n",
       "      <td>2</td>\n",
       "    </tr>\n",
       "    <tr>\n",
       "      <th>4</th>\n",
       "      <td>2019</td>\n",
       "      <td>22900</td>\n",
       "      <td>Semi-Auto</td>\n",
       "      <td>6500</td>\n",
       "      <td>Petrol</td>\n",
       "      <td>150</td>\n",
       "      <td>39.8</td>\n",
       "      <td>1.5</td>\n",
       "      <td>2</td>\n",
       "    </tr>\n",
       "  </tbody>\n",
       "</table>\n",
       "</div>"
      ],
      "text/plain": [
       "   year  price transmission  mileage fuelType  tax   mpg  engineSize  age\n",
       "0  2019  25000    Automatic    13904   Diesel  145  49.6         2.0    2\n",
       "1  2019  26883    Automatic     4562   Diesel  145  49.6         2.0    2\n",
       "2  2019  20000       Manual     7414   Diesel  145  50.4         2.0    2\n",
       "3  2019  33492    Automatic     4825   Petrol  145  32.5         2.0    2\n",
       "4  2019  22900    Semi-Auto     6500   Petrol  150  39.8         1.5    2"
      ]
     },
     "execution_count": 14,
     "metadata": {},
     "output_type": "execute_result"
    }
   ],
   "source": [
    "df.head()"
   ]
  },
  {
   "cell_type": "code",
   "execution_count": 15,
   "metadata": {
    "executionInfo": {
     "elapsed": 265,
     "status": "ok",
     "timestamp": 1628491914758,
     "user": {
      "displayName": "Abdul Azim Khan",
      "photoUrl": "",
      "userId": "07649404245608822143"
     },
     "user_tz": -330
    },
    "id": "nUwVEtl2AH8O"
   },
   "outputs": [],
   "source": [
    "df.drop(\"year\",axis=1,inplace=True)"
   ]
  },
  {
   "cell_type": "code",
   "execution_count": 16,
   "metadata": {
    "colab": {
     "base_uri": "https://localhost:8080/",
     "height": 204
    },
    "executionInfo": {
     "elapsed": 264,
     "status": "ok",
     "timestamp": 1628491914759,
     "user": {
      "displayName": "Abdul Azim Khan",
      "photoUrl": "",
      "userId": "07649404245608822143"
     },
     "user_tz": -330
    },
    "id": "iyeB_JT6_3Ab",
    "outputId": "0f969a3e-1fc3-47f8-8c99-dd55a04037d0"
   },
   "outputs": [
    {
     "data": {
      "text/html": [
       "<div>\n",
       "<style scoped>\n",
       "    .dataframe tbody tr th:only-of-type {\n",
       "        vertical-align: middle;\n",
       "    }\n",
       "\n",
       "    .dataframe tbody tr th {\n",
       "        vertical-align: top;\n",
       "    }\n",
       "\n",
       "    .dataframe thead th {\n",
       "        text-align: right;\n",
       "    }\n",
       "</style>\n",
       "<table border=\"1\" class=\"dataframe\">\n",
       "  <thead>\n",
       "    <tr style=\"text-align: right;\">\n",
       "      <th></th>\n",
       "      <th>price</th>\n",
       "      <th>transmission</th>\n",
       "      <th>mileage</th>\n",
       "      <th>fuelType</th>\n",
       "      <th>tax</th>\n",
       "      <th>mpg</th>\n",
       "      <th>engineSize</th>\n",
       "      <th>age</th>\n",
       "    </tr>\n",
       "  </thead>\n",
       "  <tbody>\n",
       "    <tr>\n",
       "      <th>0</th>\n",
       "      <td>25000</td>\n",
       "      <td>Automatic</td>\n",
       "      <td>13904</td>\n",
       "      <td>Diesel</td>\n",
       "      <td>145</td>\n",
       "      <td>49.6</td>\n",
       "      <td>2.0</td>\n",
       "      <td>2</td>\n",
       "    </tr>\n",
       "    <tr>\n",
       "      <th>1</th>\n",
       "      <td>26883</td>\n",
       "      <td>Automatic</td>\n",
       "      <td>4562</td>\n",
       "      <td>Diesel</td>\n",
       "      <td>145</td>\n",
       "      <td>49.6</td>\n",
       "      <td>2.0</td>\n",
       "      <td>2</td>\n",
       "    </tr>\n",
       "    <tr>\n",
       "      <th>2</th>\n",
       "      <td>20000</td>\n",
       "      <td>Manual</td>\n",
       "      <td>7414</td>\n",
       "      <td>Diesel</td>\n",
       "      <td>145</td>\n",
       "      <td>50.4</td>\n",
       "      <td>2.0</td>\n",
       "      <td>2</td>\n",
       "    </tr>\n",
       "    <tr>\n",
       "      <th>3</th>\n",
       "      <td>33492</td>\n",
       "      <td>Automatic</td>\n",
       "      <td>4825</td>\n",
       "      <td>Petrol</td>\n",
       "      <td>145</td>\n",
       "      <td>32.5</td>\n",
       "      <td>2.0</td>\n",
       "      <td>2</td>\n",
       "    </tr>\n",
       "    <tr>\n",
       "      <th>4</th>\n",
       "      <td>22900</td>\n",
       "      <td>Semi-Auto</td>\n",
       "      <td>6500</td>\n",
       "      <td>Petrol</td>\n",
       "      <td>150</td>\n",
       "      <td>39.8</td>\n",
       "      <td>1.5</td>\n",
       "      <td>2</td>\n",
       "    </tr>\n",
       "  </tbody>\n",
       "</table>\n",
       "</div>"
      ],
      "text/plain": [
       "   price transmission  mileage fuelType  tax   mpg  engineSize  age\n",
       "0  25000    Automatic    13904   Diesel  145  49.6         2.0    2\n",
       "1  26883    Automatic     4562   Diesel  145  49.6         2.0    2\n",
       "2  20000       Manual     7414   Diesel  145  50.4         2.0    2\n",
       "3  33492    Automatic     4825   Petrol  145  32.5         2.0    2\n",
       "4  22900    Semi-Auto     6500   Petrol  150  39.8         1.5    2"
      ]
     },
     "execution_count": 16,
     "metadata": {},
     "output_type": "execute_result"
    }
   ],
   "source": [
    "df.head()"
   ]
  },
  {
   "cell_type": "code",
   "execution_count": 17,
   "metadata": {
    "executionInfo": {
     "elapsed": 264,
     "status": "ok",
     "timestamp": 1628491914761,
     "user": {
      "displayName": "Abdul Azim Khan",
      "photoUrl": "",
      "userId": "07649404245608822143"
     },
     "user_tz": -330
    },
    "id": "95yXoz-U7zW0"
   },
   "outputs": [],
   "source": [
    "num_df = df.select_dtypes(exclude=\"object\")\n",
    "cat_df =df.select_dtypes(include=\"object\")"
   ]
  },
  {
   "cell_type": "code",
   "execution_count": 18,
   "metadata": {
    "colab": {
     "base_uri": "https://localhost:8080/",
     "height": 204
    },
    "executionInfo": {
     "elapsed": 265,
     "status": "ok",
     "timestamp": 1628491914763,
     "user": {
      "displayName": "Abdul Azim Khan",
      "photoUrl": "",
      "userId": "07649404245608822143"
     },
     "user_tz": -330
    },
    "id": "n4vx8PcA7zas",
    "outputId": "edce7281-53ff-4bd6-f6de-fe715a1fbc11"
   },
   "outputs": [
    {
     "data": {
      "text/html": [
       "<div>\n",
       "<style scoped>\n",
       "    .dataframe tbody tr th:only-of-type {\n",
       "        vertical-align: middle;\n",
       "    }\n",
       "\n",
       "    .dataframe tbody tr th {\n",
       "        vertical-align: top;\n",
       "    }\n",
       "\n",
       "    .dataframe thead th {\n",
       "        text-align: right;\n",
       "    }\n",
       "</style>\n",
       "<table border=\"1\" class=\"dataframe\">\n",
       "  <thead>\n",
       "    <tr style=\"text-align: right;\">\n",
       "      <th></th>\n",
       "      <th>price</th>\n",
       "      <th>mileage</th>\n",
       "      <th>tax</th>\n",
       "      <th>mpg</th>\n",
       "      <th>engineSize</th>\n",
       "      <th>age</th>\n",
       "    </tr>\n",
       "  </thead>\n",
       "  <tbody>\n",
       "    <tr>\n",
       "      <th>0</th>\n",
       "      <td>25000</td>\n",
       "      <td>13904</td>\n",
       "      <td>145</td>\n",
       "      <td>49.6</td>\n",
       "      <td>2.0</td>\n",
       "      <td>2</td>\n",
       "    </tr>\n",
       "    <tr>\n",
       "      <th>1</th>\n",
       "      <td>26883</td>\n",
       "      <td>4562</td>\n",
       "      <td>145</td>\n",
       "      <td>49.6</td>\n",
       "      <td>2.0</td>\n",
       "      <td>2</td>\n",
       "    </tr>\n",
       "    <tr>\n",
       "      <th>2</th>\n",
       "      <td>20000</td>\n",
       "      <td>7414</td>\n",
       "      <td>145</td>\n",
       "      <td>50.4</td>\n",
       "      <td>2.0</td>\n",
       "      <td>2</td>\n",
       "    </tr>\n",
       "    <tr>\n",
       "      <th>3</th>\n",
       "      <td>33492</td>\n",
       "      <td>4825</td>\n",
       "      <td>145</td>\n",
       "      <td>32.5</td>\n",
       "      <td>2.0</td>\n",
       "      <td>2</td>\n",
       "    </tr>\n",
       "    <tr>\n",
       "      <th>4</th>\n",
       "      <td>22900</td>\n",
       "      <td>6500</td>\n",
       "      <td>150</td>\n",
       "      <td>39.8</td>\n",
       "      <td>1.5</td>\n",
       "      <td>2</td>\n",
       "    </tr>\n",
       "  </tbody>\n",
       "</table>\n",
       "</div>"
      ],
      "text/plain": [
       "   price  mileage  tax   mpg  engineSize  age\n",
       "0  25000    13904  145  49.6         2.0    2\n",
       "1  26883     4562  145  49.6         2.0    2\n",
       "2  20000     7414  145  50.4         2.0    2\n",
       "3  33492     4825  145  32.5         2.0    2\n",
       "4  22900     6500  150  39.8         1.5    2"
      ]
     },
     "execution_count": 18,
     "metadata": {},
     "output_type": "execute_result"
    }
   ],
   "source": [
    "num_df.head()"
   ]
  },
  {
   "cell_type": "code",
   "execution_count": 19,
   "metadata": {
    "colab": {
     "base_uri": "https://localhost:8080/",
     "height": 204
    },
    "executionInfo": {
     "elapsed": 264,
     "status": "ok",
     "timestamp": 1628491914764,
     "user": {
      "displayName": "Abdul Azim Khan",
      "photoUrl": "",
      "userId": "07649404245608822143"
     },
     "user_tz": -330
    },
    "id": "S853Sjx27zdT",
    "outputId": "9eae5a1b-cf23-4063-ec68-cdba97e07af3"
   },
   "outputs": [
    {
     "data": {
      "text/html": [
       "<div>\n",
       "<style scoped>\n",
       "    .dataframe tbody tr th:only-of-type {\n",
       "        vertical-align: middle;\n",
       "    }\n",
       "\n",
       "    .dataframe tbody tr th {\n",
       "        vertical-align: top;\n",
       "    }\n",
       "\n",
       "    .dataframe thead th {\n",
       "        text-align: right;\n",
       "    }\n",
       "</style>\n",
       "<table border=\"1\" class=\"dataframe\">\n",
       "  <thead>\n",
       "    <tr style=\"text-align: right;\">\n",
       "      <th></th>\n",
       "      <th>transmission</th>\n",
       "      <th>fuelType</th>\n",
       "    </tr>\n",
       "  </thead>\n",
       "  <tbody>\n",
       "    <tr>\n",
       "      <th>0</th>\n",
       "      <td>Automatic</td>\n",
       "      <td>Diesel</td>\n",
       "    </tr>\n",
       "    <tr>\n",
       "      <th>1</th>\n",
       "      <td>Automatic</td>\n",
       "      <td>Diesel</td>\n",
       "    </tr>\n",
       "    <tr>\n",
       "      <th>2</th>\n",
       "      <td>Manual</td>\n",
       "      <td>Diesel</td>\n",
       "    </tr>\n",
       "    <tr>\n",
       "      <th>3</th>\n",
       "      <td>Automatic</td>\n",
       "      <td>Petrol</td>\n",
       "    </tr>\n",
       "    <tr>\n",
       "      <th>4</th>\n",
       "      <td>Semi-Auto</td>\n",
       "      <td>Petrol</td>\n",
       "    </tr>\n",
       "  </tbody>\n",
       "</table>\n",
       "</div>"
      ],
      "text/plain": [
       "  transmission fuelType\n",
       "0    Automatic   Diesel\n",
       "1    Automatic   Diesel\n",
       "2       Manual   Diesel\n",
       "3    Automatic   Petrol\n",
       "4    Semi-Auto   Petrol"
      ]
     },
     "execution_count": 19,
     "metadata": {},
     "output_type": "execute_result"
    }
   ],
   "source": [
    "cat_df.head()"
   ]
  },
  {
   "cell_type": "code",
   "execution_count": 20,
   "metadata": {
    "colab": {
     "base_uri": "https://localhost:8080/",
     "height": 204
    },
    "executionInfo": {
     "elapsed": 263,
     "status": "ok",
     "timestamp": 1628491914765,
     "user": {
      "displayName": "Abdul Azim Khan",
      "photoUrl": "",
      "userId": "07649404245608822143"
     },
     "user_tz": -330
    },
    "id": "jd-9M7787zhJ",
    "outputId": "11834a30-7e13-4ade-9179-743c6a446933"
   },
   "outputs": [
    {
     "data": {
      "text/html": [
       "<div>\n",
       "<style scoped>\n",
       "    .dataframe tbody tr th:only-of-type {\n",
       "        vertical-align: middle;\n",
       "    }\n",
       "\n",
       "    .dataframe tbody tr th {\n",
       "        vertical-align: top;\n",
       "    }\n",
       "\n",
       "    .dataframe thead th {\n",
       "        text-align: right;\n",
       "    }\n",
       "</style>\n",
       "<table border=\"1\" class=\"dataframe\">\n",
       "  <thead>\n",
       "    <tr style=\"text-align: right;\">\n",
       "      <th></th>\n",
       "      <th>transmission_Automatic</th>\n",
       "      <th>transmission_Manual</th>\n",
       "      <th>transmission_Semi-Auto</th>\n",
       "      <th>fuelType_Diesel</th>\n",
       "      <th>fuelType_Hybrid</th>\n",
       "      <th>fuelType_Other</th>\n",
       "      <th>fuelType_Petrol</th>\n",
       "    </tr>\n",
       "  </thead>\n",
       "  <tbody>\n",
       "    <tr>\n",
       "      <th>0</th>\n",
       "      <td>1</td>\n",
       "      <td>0</td>\n",
       "      <td>0</td>\n",
       "      <td>1</td>\n",
       "      <td>0</td>\n",
       "      <td>0</td>\n",
       "      <td>0</td>\n",
       "    </tr>\n",
       "    <tr>\n",
       "      <th>1</th>\n",
       "      <td>1</td>\n",
       "      <td>0</td>\n",
       "      <td>0</td>\n",
       "      <td>1</td>\n",
       "      <td>0</td>\n",
       "      <td>0</td>\n",
       "      <td>0</td>\n",
       "    </tr>\n",
       "    <tr>\n",
       "      <th>2</th>\n",
       "      <td>0</td>\n",
       "      <td>1</td>\n",
       "      <td>0</td>\n",
       "      <td>1</td>\n",
       "      <td>0</td>\n",
       "      <td>0</td>\n",
       "      <td>0</td>\n",
       "    </tr>\n",
       "    <tr>\n",
       "      <th>3</th>\n",
       "      <td>1</td>\n",
       "      <td>0</td>\n",
       "      <td>0</td>\n",
       "      <td>0</td>\n",
       "      <td>0</td>\n",
       "      <td>0</td>\n",
       "      <td>1</td>\n",
       "    </tr>\n",
       "    <tr>\n",
       "      <th>4</th>\n",
       "      <td>0</td>\n",
       "      <td>0</td>\n",
       "      <td>1</td>\n",
       "      <td>0</td>\n",
       "      <td>0</td>\n",
       "      <td>0</td>\n",
       "      <td>1</td>\n",
       "    </tr>\n",
       "  </tbody>\n",
       "</table>\n",
       "</div>"
      ],
      "text/plain": [
       "   transmission_Automatic  transmission_Manual  transmission_Semi-Auto  \\\n",
       "0                       1                    0                       0   \n",
       "1                       1                    0                       0   \n",
       "2                       0                    1                       0   \n",
       "3                       1                    0                       0   \n",
       "4                       0                    0                       1   \n",
       "\n",
       "   fuelType_Diesel  fuelType_Hybrid  fuelType_Other  fuelType_Petrol  \n",
       "0                1                0               0                0  \n",
       "1                1                0               0                0  \n",
       "2                1                0               0                0  \n",
       "3                0                0               0                1  \n",
       "4                0                0               0                1  "
      ]
     },
     "execution_count": 20,
     "metadata": {},
     "output_type": "execute_result"
    }
   ],
   "source": [
    "cat_df_dum = pd.get_dummies(cat_df)\n",
    "cat_df_dum.head()"
   ]
  },
  {
   "cell_type": "code",
   "execution_count": 21,
   "metadata": {
    "colab": {
     "base_uri": "https://localhost:8080/",
     "height": 241
    },
    "executionInfo": {
     "elapsed": 262,
     "status": "ok",
     "timestamp": 1628491914766,
     "user": {
      "displayName": "Abdul Azim Khan",
      "photoUrl": "",
      "userId": "07649404245608822143"
     },
     "user_tz": -330
    },
    "id": "iCdorwW17zjR",
    "outputId": "032f54a6-df6a-41cb-fbd3-64db7e65e38d"
   },
   "outputs": [
    {
     "data": {
      "text/html": [
       "<div>\n",
       "<style scoped>\n",
       "    .dataframe tbody tr th:only-of-type {\n",
       "        vertical-align: middle;\n",
       "    }\n",
       "\n",
       "    .dataframe tbody tr th {\n",
       "        vertical-align: top;\n",
       "    }\n",
       "\n",
       "    .dataframe thead th {\n",
       "        text-align: right;\n",
       "    }\n",
       "</style>\n",
       "<table border=\"1\" class=\"dataframe\">\n",
       "  <thead>\n",
       "    <tr style=\"text-align: right;\">\n",
       "      <th></th>\n",
       "      <th>price</th>\n",
       "      <th>mileage</th>\n",
       "      <th>tax</th>\n",
       "      <th>mpg</th>\n",
       "      <th>engineSize</th>\n",
       "      <th>age</th>\n",
       "      <th>transmission_Automatic</th>\n",
       "      <th>transmission_Manual</th>\n",
       "      <th>transmission_Semi-Auto</th>\n",
       "      <th>fuelType_Diesel</th>\n",
       "      <th>fuelType_Hybrid</th>\n",
       "      <th>fuelType_Other</th>\n",
       "      <th>fuelType_Petrol</th>\n",
       "    </tr>\n",
       "  </thead>\n",
       "  <tbody>\n",
       "    <tr>\n",
       "      <th>0</th>\n",
       "      <td>25000</td>\n",
       "      <td>13904</td>\n",
       "      <td>145</td>\n",
       "      <td>49.6</td>\n",
       "      <td>2.0</td>\n",
       "      <td>2</td>\n",
       "      <td>1</td>\n",
       "      <td>0</td>\n",
       "      <td>0</td>\n",
       "      <td>1</td>\n",
       "      <td>0</td>\n",
       "      <td>0</td>\n",
       "      <td>0</td>\n",
       "    </tr>\n",
       "    <tr>\n",
       "      <th>1</th>\n",
       "      <td>26883</td>\n",
       "      <td>4562</td>\n",
       "      <td>145</td>\n",
       "      <td>49.6</td>\n",
       "      <td>2.0</td>\n",
       "      <td>2</td>\n",
       "      <td>1</td>\n",
       "      <td>0</td>\n",
       "      <td>0</td>\n",
       "      <td>1</td>\n",
       "      <td>0</td>\n",
       "      <td>0</td>\n",
       "      <td>0</td>\n",
       "    </tr>\n",
       "    <tr>\n",
       "      <th>2</th>\n",
       "      <td>20000</td>\n",
       "      <td>7414</td>\n",
       "      <td>145</td>\n",
       "      <td>50.4</td>\n",
       "      <td>2.0</td>\n",
       "      <td>2</td>\n",
       "      <td>0</td>\n",
       "      <td>1</td>\n",
       "      <td>0</td>\n",
       "      <td>1</td>\n",
       "      <td>0</td>\n",
       "      <td>0</td>\n",
       "      <td>0</td>\n",
       "    </tr>\n",
       "    <tr>\n",
       "      <th>3</th>\n",
       "      <td>33492</td>\n",
       "      <td>4825</td>\n",
       "      <td>145</td>\n",
       "      <td>32.5</td>\n",
       "      <td>2.0</td>\n",
       "      <td>2</td>\n",
       "      <td>1</td>\n",
       "      <td>0</td>\n",
       "      <td>0</td>\n",
       "      <td>0</td>\n",
       "      <td>0</td>\n",
       "      <td>0</td>\n",
       "      <td>1</td>\n",
       "    </tr>\n",
       "    <tr>\n",
       "      <th>4</th>\n",
       "      <td>22900</td>\n",
       "      <td>6500</td>\n",
       "      <td>150</td>\n",
       "      <td>39.8</td>\n",
       "      <td>1.5</td>\n",
       "      <td>2</td>\n",
       "      <td>0</td>\n",
       "      <td>0</td>\n",
       "      <td>1</td>\n",
       "      <td>0</td>\n",
       "      <td>0</td>\n",
       "      <td>0</td>\n",
       "      <td>1</td>\n",
       "    </tr>\n",
       "  </tbody>\n",
       "</table>\n",
       "</div>"
      ],
      "text/plain": [
       "   price  mileage  tax   mpg  engineSize  age  transmission_Automatic  \\\n",
       "0  25000    13904  145  49.6         2.0    2                       1   \n",
       "1  26883     4562  145  49.6         2.0    2                       1   \n",
       "2  20000     7414  145  50.4         2.0    2                       0   \n",
       "3  33492     4825  145  32.5         2.0    2                       1   \n",
       "4  22900     6500  150  39.8         1.5    2                       0   \n",
       "\n",
       "   transmission_Manual  transmission_Semi-Auto  fuelType_Diesel  \\\n",
       "0                    0                       0                1   \n",
       "1                    0                       0                1   \n",
       "2                    1                       0                1   \n",
       "3                    0                       0                0   \n",
       "4                    0                       1                0   \n",
       "\n",
       "   fuelType_Hybrid  fuelType_Other  fuelType_Petrol  \n",
       "0                0               0                0  \n",
       "1                0               0                0  \n",
       "2                0               0                0  \n",
       "3                0               0                1  \n",
       "4                0               0                1  "
      ]
     },
     "execution_count": 21,
     "metadata": {},
     "output_type": "execute_result"
    }
   ],
   "source": [
    "df1 = pd.concat([num_df,cat_df_dum],axis=1)\n",
    "df1.head()"
   ]
  },
  {
   "cell_type": "code",
   "execution_count": null,
   "metadata": {
    "executionInfo": {
     "elapsed": 255,
     "status": "ok",
     "timestamp": 1628491914767,
     "user": {
      "displayName": "Abdul Azim Khan",
      "photoUrl": "",
      "userId": "07649404245608822143"
     },
     "user_tz": -330
    },
    "id": "4teYOQXa7zuC"
   },
   "outputs": [],
   "source": []
  },
  {
   "cell_type": "code",
   "execution_count": 22,
   "metadata": {
    "executionInfo": {
     "elapsed": 251,
     "status": "ok",
     "timestamp": 1628491914768,
     "user": {
      "displayName": "Abdul Azim Khan",
      "photoUrl": "",
      "userId": "07649404245608822143"
     },
     "user_tz": -330
    },
    "id": "k8iKmlfD7zwY"
   },
   "outputs": [],
   "source": [
    "y=df1[\"price\"]\n",
    "X=df1.drop(\"price\",axis=1)"
   ]
  },
  {
   "cell_type": "code",
   "execution_count": 23,
   "metadata": {
    "colab": {
     "base_uri": "https://localhost:8080/",
     "height": 241
    },
    "executionInfo": {
     "elapsed": 251,
     "status": "ok",
     "timestamp": 1628491914769,
     "user": {
      "displayName": "Abdul Azim Khan",
      "photoUrl": "",
      "userId": "07649404245608822143"
     },
     "user_tz": -330
    },
    "id": "z-i0mtU17z0N",
    "outputId": "020df3c7-ab49-41ab-ff1b-2a15d34389a8",
    "scrolled": true
   },
   "outputs": [
    {
     "data": {
      "text/html": [
       "<div>\n",
       "<style scoped>\n",
       "    .dataframe tbody tr th:only-of-type {\n",
       "        vertical-align: middle;\n",
       "    }\n",
       "\n",
       "    .dataframe tbody tr th {\n",
       "        vertical-align: top;\n",
       "    }\n",
       "\n",
       "    .dataframe thead th {\n",
       "        text-align: right;\n",
       "    }\n",
       "</style>\n",
       "<table border=\"1\" class=\"dataframe\">\n",
       "  <thead>\n",
       "    <tr style=\"text-align: right;\">\n",
       "      <th></th>\n",
       "      <th>mileage</th>\n",
       "      <th>tax</th>\n",
       "      <th>mpg</th>\n",
       "      <th>engineSize</th>\n",
       "      <th>age</th>\n",
       "      <th>transmission_Automatic</th>\n",
       "      <th>transmission_Manual</th>\n",
       "      <th>transmission_Semi-Auto</th>\n",
       "      <th>fuelType_Diesel</th>\n",
       "      <th>fuelType_Hybrid</th>\n",
       "      <th>fuelType_Other</th>\n",
       "      <th>fuelType_Petrol</th>\n",
       "    </tr>\n",
       "  </thead>\n",
       "  <tbody>\n",
       "    <tr>\n",
       "      <th>0</th>\n",
       "      <td>13904</td>\n",
       "      <td>145</td>\n",
       "      <td>49.6</td>\n",
       "      <td>2.0</td>\n",
       "      <td>2</td>\n",
       "      <td>1</td>\n",
       "      <td>0</td>\n",
       "      <td>0</td>\n",
       "      <td>1</td>\n",
       "      <td>0</td>\n",
       "      <td>0</td>\n",
       "      <td>0</td>\n",
       "    </tr>\n",
       "    <tr>\n",
       "      <th>1</th>\n",
       "      <td>4562</td>\n",
       "      <td>145</td>\n",
       "      <td>49.6</td>\n",
       "      <td>2.0</td>\n",
       "      <td>2</td>\n",
       "      <td>1</td>\n",
       "      <td>0</td>\n",
       "      <td>0</td>\n",
       "      <td>1</td>\n",
       "      <td>0</td>\n",
       "      <td>0</td>\n",
       "      <td>0</td>\n",
       "    </tr>\n",
       "    <tr>\n",
       "      <th>2</th>\n",
       "      <td>7414</td>\n",
       "      <td>145</td>\n",
       "      <td>50.4</td>\n",
       "      <td>2.0</td>\n",
       "      <td>2</td>\n",
       "      <td>0</td>\n",
       "      <td>1</td>\n",
       "      <td>0</td>\n",
       "      <td>1</td>\n",
       "      <td>0</td>\n",
       "      <td>0</td>\n",
       "      <td>0</td>\n",
       "    </tr>\n",
       "    <tr>\n",
       "      <th>3</th>\n",
       "      <td>4825</td>\n",
       "      <td>145</td>\n",
       "      <td>32.5</td>\n",
       "      <td>2.0</td>\n",
       "      <td>2</td>\n",
       "      <td>1</td>\n",
       "      <td>0</td>\n",
       "      <td>0</td>\n",
       "      <td>0</td>\n",
       "      <td>0</td>\n",
       "      <td>0</td>\n",
       "      <td>1</td>\n",
       "    </tr>\n",
       "    <tr>\n",
       "      <th>4</th>\n",
       "      <td>6500</td>\n",
       "      <td>150</td>\n",
       "      <td>39.8</td>\n",
       "      <td>1.5</td>\n",
       "      <td>2</td>\n",
       "      <td>0</td>\n",
       "      <td>0</td>\n",
       "      <td>1</td>\n",
       "      <td>0</td>\n",
       "      <td>0</td>\n",
       "      <td>0</td>\n",
       "      <td>1</td>\n",
       "    </tr>\n",
       "  </tbody>\n",
       "</table>\n",
       "</div>"
      ],
      "text/plain": [
       "   mileage  tax   mpg  engineSize  age  transmission_Automatic  \\\n",
       "0    13904  145  49.6         2.0    2                       1   \n",
       "1     4562  145  49.6         2.0    2                       1   \n",
       "2     7414  145  50.4         2.0    2                       0   \n",
       "3     4825  145  32.5         2.0    2                       1   \n",
       "4     6500  150  39.8         1.5    2                       0   \n",
       "\n",
       "   transmission_Manual  transmission_Semi-Auto  fuelType_Diesel  \\\n",
       "0                    0                       0                1   \n",
       "1                    0                       0                1   \n",
       "2                    1                       0                1   \n",
       "3                    0                       0                0   \n",
       "4                    0                       1                0   \n",
       "\n",
       "   fuelType_Hybrid  fuelType_Other  fuelType_Petrol  \n",
       "0                0               0                0  \n",
       "1                0               0                0  \n",
       "2                0               0                0  \n",
       "3                0               0                1  \n",
       "4                0               0                1  "
      ]
     },
     "execution_count": 23,
     "metadata": {},
     "output_type": "execute_result"
    }
   ],
   "source": [
    "X.head()"
   ]
  },
  {
   "cell_type": "code",
   "execution_count": 65,
   "metadata": {},
   "outputs": [
    {
     "data": {
      "text/plain": [
       "Index(['mileage', 'tax', 'mpg', 'engineSize', 'age', 'transmission_Automatic',\n",
       "       'transmission_Manual', 'transmission_Semi-Auto', 'fuelType_Diesel',\n",
       "       'fuelType_Hybrid', 'fuelType_Other', 'fuelType_Petrol'],\n",
       "      dtype='object')"
      ]
     },
     "execution_count": 65,
     "metadata": {},
     "output_type": "execute_result"
    }
   ],
   "source": [
    "X.columns"
   ]
  },
  {
   "cell_type": "code",
   "execution_count": 24,
   "metadata": {
    "executionInfo": {
     "elapsed": 249,
     "status": "ok",
     "timestamp": 1628491914770,
     "user": {
      "displayName": "Abdul Azim Khan",
      "photoUrl": "",
      "userId": "07649404245608822143"
     },
     "user_tz": -330
    },
    "id": "4Qc3oB2bGR-8"
   },
   "outputs": [],
   "source": [
    "from sklearn.model_selection import train_test_split\n",
    "from sklearn.metrics import mean_squared_error as MSE"
   ]
  },
  {
   "cell_type": "markdown",
   "metadata": {
    "id": "zRveRTUt8t2E"
   },
   "source": [
    "## Let's try modeling the data without much treatment to it and see how models perform."
   ]
  },
  {
   "cell_type": "code",
   "execution_count": 25,
   "metadata": {
    "executionInfo": {
     "elapsed": 249,
     "status": "ok",
     "timestamp": 1628491914771,
     "user": {
      "displayName": "Abdul Azim Khan",
      "photoUrl": "",
      "userId": "07649404245608822143"
     },
     "user_tz": -330
    },
    "id": "Yp_lijq53MWq"
   },
   "outputs": [],
   "source": [
    "X_train,X_test,y_train,y_test = train_test_split(X,y,test_size=0.2,random_state=42)"
   ]
  },
  {
   "cell_type": "code",
   "execution_count": 26,
   "metadata": {
    "executionInfo": {
     "elapsed": 638,
     "status": "ok",
     "timestamp": 1628491915163,
     "user": {
      "displayName": "Abdul Azim Khan",
      "photoUrl": "",
      "userId": "07649404245608822143"
     },
     "user_tz": -330
    },
    "id": "RQpc97m67z34"
   },
   "outputs": [],
   "source": [
    "from sklearn.ensemble import RandomForestRegressor\n",
    "from sklearn.linear_model import LinearRegression\n",
    "from xgboost import XGBRegressor"
   ]
  },
  {
   "cell_type": "code",
   "execution_count": 27,
   "metadata": {
    "executionInfo": {
     "elapsed": 8,
     "status": "ok",
     "timestamp": 1628491915163,
     "user": {
      "displayName": "Abdul Azim Khan",
      "photoUrl": "",
      "userId": "07649404245608822143"
     },
     "user_tz": -330
    },
    "id": "CHHcOyc6N2p9"
   },
   "outputs": [],
   "source": [
    "models=(RandomForestRegressor(),LinearRegression(),XGBRegressor())"
   ]
  },
  {
   "cell_type": "code",
   "execution_count": 28,
   "metadata": {
    "executionInfo": {
     "elapsed": 6,
     "status": "ok",
     "timestamp": 1628491915164,
     "user": {
      "displayName": "Abdul Azim Khan",
      "photoUrl": "",
      "userId": "07649404245608822143"
     },
     "user_tz": -330
    },
    "id": "PE919glP7z6w"
   },
   "outputs": [],
   "source": [
    "def evaluate_models(Xtrain,Xtest,ytrain,ytest):\n",
    "  \n",
    "  for i in range(len(models)): \n",
    "    models[i].fit(Xtrain,ytrain)\n",
    "    y_pred = models[i].predict(Xtest)\n",
    "\n",
    "    print(\"Training score for :\",models[i],\"--------->\",models[i].score(Xtrain,ytrain))\n",
    "    print(\"Training score for :\",models[i],\"--------->\",models[i].score(Xtest,ytest))\n",
    "    print(\"--------------------------------------------------------\")"
   ]
  },
  {
   "cell_type": "code",
   "execution_count": 29,
   "metadata": {
    "colab": {
     "base_uri": "https://localhost:8080/"
    },
    "executionInfo": {
     "elapsed": 4713,
     "status": "ok",
     "timestamp": 1628491919872,
     "user": {
      "displayName": "Abdul Azim Khan",
      "photoUrl": "",
      "userId": "07649404245608822143"
     },
     "user_tz": -330
    },
    "id": "cKh6o2X17z-L",
    "outputId": "e6ded0b0-8ffb-47dd-e621-3c835b9b287b"
   },
   "outputs": [
    {
     "name": "stdout",
     "output_type": "stream",
     "text": [
      "Training score for : RandomForestRegressor() ---------> 0.9903025313278971\n",
      "Training score for : RandomForestRegressor() ---------> 0.9370951900667777\n",
      "--------------------------------------------------------\n",
      "Training score for : LinearRegression() ---------> 0.8076686334317326\n",
      "Training score for : LinearRegression() ---------> 0.8049531320713168\n",
      "--------------------------------------------------------\n",
      "Training score for : XGBRegressor(base_score=0.5, booster='gbtree', colsample_bylevel=1,\n",
      "             colsample_bynode=1, colsample_bytree=1, gamma=0, gpu_id=-1,\n",
      "             importance_type='gain', interaction_constraints='',\n",
      "             learning_rate=0.300000012, max_delta_step=0, max_depth=6,\n",
      "             min_child_weight=1, missing=nan, monotone_constraints='()',\n",
      "             n_estimators=100, n_jobs=4, num_parallel_tree=1, random_state=0,\n",
      "             reg_alpha=0, reg_lambda=1, scale_pos_weight=1, subsample=1,\n",
      "             tree_method='exact', validate_parameters=1, verbosity=None) ---------> 0.9712646470675851\n",
      "Training score for : XGBRegressor(base_score=0.5, booster='gbtree', colsample_bylevel=1,\n",
      "             colsample_bynode=1, colsample_bytree=1, gamma=0, gpu_id=-1,\n",
      "             importance_type='gain', interaction_constraints='',\n",
      "             learning_rate=0.300000012, max_delta_step=0, max_depth=6,\n",
      "             min_child_weight=1, missing=nan, monotone_constraints='()',\n",
      "             n_estimators=100, n_jobs=4, num_parallel_tree=1, random_state=0,\n",
      "             reg_alpha=0, reg_lambda=1, scale_pos_weight=1, subsample=1,\n",
      "             tree_method='exact', validate_parameters=1, verbosity=None) ---------> 0.9465827726066688\n",
      "--------------------------------------------------------\n"
     ]
    }
   ],
   "source": [
    "evaluate_models(X_train,X_test,y_train,y_test)"
   ]
  },
  {
   "cell_type": "code",
   "execution_count": null,
   "metadata": {
    "executionInfo": {
     "elapsed": 93,
     "status": "ok",
     "timestamp": 1628491919881,
     "user": {
      "displayName": "Abdul Azim Khan",
      "photoUrl": "",
      "userId": "07649404245608822143"
     },
     "user_tz": -330
    },
    "id": "x5WE00XJ70A9"
   },
   "outputs": [],
   "source": []
  },
  {
   "cell_type": "markdown",
   "metadata": {
    "id": "vxE-zXu489ZB"
   },
   "source": [
    "## Random forest shows pretty good results .Now let's do some treatment to the data set and see how it's performance on models changes. "
   ]
  },
  {
   "cell_type": "code",
   "execution_count": 30,
   "metadata": {
    "executionInfo": {
     "elapsed": 86,
     "status": "ok",
     "timestamp": 1628491919885,
     "user": {
      "displayName": "Abdul Azim Khan",
      "photoUrl": "",
      "userId": "07649404245608822143"
     },
     "user_tz": -330
    },
    "id": "IWUYWMmG_w7e"
   },
   "outputs": [],
   "source": [
    "# function to add value labels\n",
    "def addlabels(x,y):\n",
    "    for i in range(len(x)):\n",
    "        plt.text(i,y[i],y[i])"
   ]
  },
  {
   "cell_type": "markdown",
   "metadata": {
    "id": "LNo9oVl8JACf"
   },
   "source": [
    "### Getting insights of the data"
   ]
  },
  {
   "cell_type": "code",
   "execution_count": 31,
   "metadata": {
    "colab": {
     "base_uri": "https://localhost:8080/",
     "height": 513
    },
    "executionInfo": {
     "elapsed": 85,
     "status": "ok",
     "timestamp": 1628491919886,
     "user": {
      "displayName": "Abdul Azim Khan",
      "photoUrl": "",
      "userId": "07649404245608822143"
     },
     "user_tz": -330
    },
    "id": "wqYLQD5aI9Jc",
    "outputId": "8871ebb5-baac-4475-f505-8cda5b89beda"
   },
   "outputs": [
    {
     "data": {
      "image/png": "[encoded data removed]",
      "text/plain": [
       "<Figure size 1440x576 with 2 Axes>"
      ]
     },
     "metadata": {},
     "output_type": "display_data"
    }
   ],
   "source": [
    "plt.figure(figsize=(20,8))\n",
    "\n",
    "plt.subplot(1,2,1)\n",
    "plt.title('Car Price Distribution Plot')\n",
    "sns.distplot(df.price)\n",
    "\n",
    "plt.subplot(1,2,2)\n",
    "plt.title('Car Price Spread')\n",
    "sns.boxplot(y=df.price)\n",
    "\n",
    "plt.show()"
   ]
  },
  {
   "cell_type": "code",
   "execution_count": 32,
   "metadata": {
    "colab": {
     "base_uri": "https://localhost:8080/"
    },
    "executionInfo": {
     "elapsed": 1320,
     "status": "ok",
     "timestamp": 1628491921128,
     "user": {
      "displayName": "Abdul Azim Khan",
      "photoUrl": "",
      "userId": "07649404245608822143"
     },
     "user_tz": -330
    },
    "id": "mja8OZlkI9Yw",
    "outputId": "0e697f4a-b534-471c-9ba2-8a620fd39353"
   },
   "outputs": [
    {
     "name": "stdout",
     "output_type": "stream",
     "text": [
      "count    14893.000000\n",
      "mean     16807.898073\n",
      "std       7735.548874\n",
      "min        899.000000\n",
      "25%      10990.000000\n",
      "50%      15494.000000\n",
      "75%      20995.000000\n",
      "85%      24396.000000\n",
      "90%      26989.000000\n",
      "100%     69994.000000\n",
      "max      69994.000000\n",
      "Name: price, dtype: float64\n"
     ]
    }
   ],
   "source": [
    "print(df.price.describe(percentiles = [0.25,0.50,0.75,0.85,0.90,1]))"
   ]
  },
  {
   "cell_type": "markdown",
   "metadata": {
    "id": "o0NqPIYDJzgW"
   },
   "source": [
    "### Inference :\n",
    "-The plot seemed to be right-skewed, meaning that the most prices in the dataset are low(Below 15,000).\n",
    "\n",
    "-There is a significant difference between the mean and the median of the price distribution.\n",
    "\n",
    "-The data points are far spread out from the mean, which indicates a high variance in the car prices.(90% of the prices are below 26,989, whereas the remaining 10% are between 26,989 and 69,994.)"
   ]
  },
  {
   "cell_type": "markdown",
   "metadata": {
    "id": "IBh30Z9pJ7Yn"
   },
   "source": [
    "## Vizualing the categorical data\n"
   ]
  },
  {
   "cell_type": "code",
   "execution_count": 33,
   "metadata": {
    "colab": {
     "base_uri": "https://localhost:8080/"
    },
    "executionInfo": {
     "elapsed": 199,
     "status": "ok",
     "timestamp": 1628491921130,
     "user": {
      "displayName": "Abdul Azim Khan",
      "photoUrl": "",
      "userId": "07649404245608822143"
     },
     "user_tz": -330
    },
    "id": "pqd-t4EuLxya",
    "outputId": "3afb76f0-6bbe-41d9-ff7a-146cbf75d15a"
   },
   "outputs": [
    {
     "data": {
      "text/plain": [
       "Index(['price', 'transmission', 'mileage', 'fuelType', 'tax', 'mpg',\n",
       "       'engineSize', 'age'],\n",
       "      dtype='object')"
      ]
     },
     "execution_count": 33,
     "metadata": {},
     "output_type": "execute_result"
    }
   ],
   "source": [
    "df.columns"
   ]
  },
  {
   "cell_type": "code",
   "execution_count": 34,
   "metadata": {
    "colab": {
     "base_uri": "https://localhost:8080/",
     "height": 338
    },
    "executionInfo": {
     "elapsed": 190,
     "status": "ok",
     "timestamp": 1628491921132,
     "user": {
      "displayName": "Abdul Azim Khan",
      "photoUrl": "",
      "userId": "07649404245608822143"
     },
     "user_tz": -330
    },
    "id": "mD5NgcHfI9gd",
    "outputId": "c58d2152-21ed-49c9-d2e8-2c94f7e35326"
   },
   "outputs": [
    {
     "data": {
      "text/plain": [
       "<AxesSubplot:xlabel='transmission'>"
      ]
     },
     "execution_count": 34,
     "metadata": {},
     "output_type": "execute_result"
    },
    {
     "data": {
      "image/png": "[encoded data removed]",
      "text/plain": [
       "<Figure size 432x288 with 1 Axes>"
      ]
     },
     "metadata": {},
     "output_type": "display_data"
    }
   ],
   "source": [
    "\n",
    "pd.DataFrame(df.groupby(['transmission'])['price'].mean().sort_values(ascending = False)).plot.bar()"
   ]
  },
  {
   "cell_type": "code",
   "execution_count": 35,
   "metadata": {
    "colab": {
     "base_uri": "https://localhost:8080/",
     "height": 319
    },
    "executionInfo": {
     "elapsed": 182,
     "status": "ok",
     "timestamp": 1628491921133,
     "user": {
      "displayName": "Abdul Azim Khan",
      "photoUrl": "",
      "userId": "07649404245608822143"
     },
     "user_tz": -330
    },
    "id": "hSt2Q-m0I9in",
    "outputId": "5d8c2241-5df0-473f-b8fd-4304372b788e"
   },
   "outputs": [
    {
     "data": {
      "text/plain": [
       "<AxesSubplot:xlabel='fuelType'>"
      ]
     },
     "execution_count": 35,
     "metadata": {},
     "output_type": "execute_result"
    },
    {
     "data": {
      "image/png": "[encoded data removed]",
      "text/plain": [
       "<Figure size 432x288 with 1 Axes>"
      ]
     },
     "metadata": {},
     "output_type": "display_data"
    }
   ],
   "source": [
    "pd.DataFrame(df.groupby(['fuelType'])['price'].mean().sort_values(ascending = False)).plot.bar()"
   ]
  },
  {
   "cell_type": "code",
   "execution_count": 36,
   "metadata": {
    "colab": {
     "base_uri": "https://localhost:8080/"
    },
    "executionInfo": {
     "elapsed": 160,
     "status": "ok",
     "timestamp": 1628491921134,
     "user": {
      "displayName": "Abdul Azim Khan",
      "photoUrl": "",
      "userId": "07649404245608822143"
     },
     "user_tz": -330
    },
    "id": "yNxgWuCXBanB",
    "outputId": "b0fc6855-d1ce-460e-b01f-91fc58071bb3"
   },
   "outputs": [
    {
     "data": {
      "text/plain": [
       "Petrol    8414\n",
       "Diesel    6251\n",
       "Hybrid     142\n",
       "Other       86\n",
       "Name: fuelType, dtype: int64"
      ]
     },
     "execution_count": 36,
     "metadata": {},
     "output_type": "execute_result"
    }
   ],
   "source": [
    "df['fuelType'].value_counts()"
   ]
  },
  {
   "cell_type": "markdown",
   "metadata": {
    "id": "SqkP-ZnwCTyU"
   },
   "source": [
    "### We can see there is a imbalance in categorical distribution.Let's vizualize that."
   ]
  },
  {
   "cell_type": "code",
   "execution_count": 37,
   "metadata": {
    "colab": {
     "base_uri": "https://localhost:8080/",
     "height": 541
    },
    "executionInfo": {
     "elapsed": 108,
     "status": "ok",
     "timestamp": 1628491921139,
     "user": {
      "displayName": "Abdul Azim Khan",
      "photoUrl": "",
      "userId": "07649404245608822143"
     },
     "user_tz": -330
    },
    "id": "KEB5Gt8_CSVV",
    "outputId": "f11b8a6b-7984-4e05-fd64-62d796b5e44e"
   },
   "outputs": [
    {
     "data": {
      "image/png": "[encoded data removed]",
      "text/plain": [
       "<Figure size 576x288 with 1 Axes>"
      ]
     },
     "metadata": {},
     "output_type": "display_data"
    },
    {
     "data": {
      "image/png": "[encoded data removed]",
      "text/plain": [
       "<Figure size 576x288 with 1 Axes>"
      ]
     },
     "metadata": {},
     "output_type": "display_data"
    }
   ],
   "source": [
    "# let's check for any bias among the categorical features in distribution of categories.\n",
    "for i in range(len(cat_df.columns)):\n",
    "    \n",
    "    plt.figure(figsize=(8,4))\n",
    "    plt.bar(cat_df[cat_df.columns[i]].unique(),cat_df[cat_df.columns[i]].value_counts(),color=colors)\n",
    "    addlabels(cat_df[cat_df.columns[i]].unique(),cat_df[cat_df.columns[i]].value_counts())\n",
    "    plt.xlabel(\"Categories for \"+cat_df.columns[i])\n",
    "    plt.ylabel(\"Counts\")"
   ]
  },
  {
   "cell_type": "markdown",
   "metadata": {
    "id": "gGsovWC0DXcr"
   },
   "source": [
    "Here we can see there is a huge imbalance among the categorical distribution in `fuelType` feature,which needs to be treated before feeding the data for modeling."
   ]
  },
  {
   "cell_type": "code",
   "execution_count": 38,
   "metadata": {
    "colab": {
     "base_uri": "https://localhost:8080/",
     "height": 1000
    },
    "executionInfo": {
     "elapsed": 14958,
     "status": "ok",
     "timestamp": 1628491935993,
     "user": {
      "displayName": "Abdul Azim Khan",
      "photoUrl": "",
      "userId": "07649404245608822143"
     },
     "user_tz": -330
    },
    "id": "jjCez4BnI9os",
    "outputId": "fe6b370e-4487-415d-e4b1-4d55db561649"
   },
   "outputs": [
    {
     "data": {
      "image/png": "[encoded data removed]",
      "text/plain": [
       "<Figure size 1080x1080 with 42 Axes>"
      ]
     },
     "metadata": {},
     "output_type": "display_data"
    }
   ],
   "source": [
    "sns.pairplot(df)\n",
    "plt.show()"
   ]
  },
  {
   "cell_type": "code",
   "execution_count": 39,
   "metadata": {
    "colab": {
     "base_uri": "https://localhost:8080/",
     "height": 487
    },
    "executionInfo": {
     "elapsed": 1001,
     "status": "ok",
     "timestamp": 1628491936941,
     "user": {
      "displayName": "Abdul Azim Khan",
      "photoUrl": "",
      "userId": "07649404245608822143"
     },
     "user_tz": -330
    },
    "id": "QuK41EeII9rF",
    "outputId": "f70f69ca-4680-4d83-c14c-186756c67153"
   },
   "outputs": [
    {
     "data": {
      "image/png": "[encoded data removed]",
      "text/plain": [
       "<Figure size 1080x576 with 2 Axes>"
      ]
     },
     "metadata": {},
     "output_type": "display_data"
    }
   ],
   "source": [
    "#Correlation using heatmap\n",
    "plt.figure(figsize = (15, 8))\n",
    "sns.heatmap(df.corr(), annot = True, cmap=\"YlGnBu\")\n",
    "plt.show()"
   ]
  },
  {
   "cell_type": "markdown",
   "metadata": {
    "id": "97KmL6WLEmh6"
   },
   "source": [
    "### From this correlation heatmap we can see there is pretty good impact of all numrical feature on `price` of the car. Now let's check their relation with scatter plot further more."
   ]
  },
  {
   "cell_type": "code",
   "execution_count": 40,
   "metadata": {
    "colab": {
     "base_uri": "https://localhost:8080/",
     "height": 896
    },
    "executionInfo": {
     "elapsed": 1123,
     "status": "ok",
     "timestamp": 1628491938035,
     "user": {
      "displayName": "Abdul Azim Khan",
      "photoUrl": "",
      "userId": "07649404245608822143"
     },
     "user_tz": -330
    },
    "id": "MuhUdMVMI9wh",
    "outputId": "59428a37-e2b6-4991-da94-bc7cbf3adb1d"
   },
   "outputs": [
    {
     "data": {
      "image/png": "[encoded data removed]",
      "text/plain": [
       "<Figure size 720x1440 with 5 Axes>"
      ]
     },
     "metadata": {},
     "output_type": "display_data"
    }
   ],
   "source": [
    "def scatter(x,fig):\n",
    "    plt.subplot(5,2,fig)\n",
    "    plt.scatter(df[x],df['price'])\n",
    "    plt.title(x+' vs Price')\n",
    "    plt.ylabel('Price')\n",
    "    plt.xlabel(x)\n",
    "\n",
    "plt.figure(figsize=(10,20))\n",
    "\n",
    "scatter('mileage', 1)\n",
    "scatter('tax', 2)\n",
    "scatter('mpg', 3)\n",
    "scatter('engineSize', 4)\n",
    "scatter('age',5)\n",
    "\n",
    "plt.tight_layout()"
   ]
  },
  {
   "cell_type": "markdown",
   "metadata": {
    "id": "pcNMEQ7KJMa0"
   },
   "source": [
    "Let's do some resampling to the `fuelType` feature and make it balanced among categories."
   ]
  },
  {
   "cell_type": "code",
   "execution_count": 41,
   "metadata": {
    "colab": {
     "base_uri": "https://localhost:8080/"
    },
    "executionInfo": {
     "elapsed": 90,
     "status": "ok",
     "timestamp": 1628491938043,
     "user": {
      "displayName": "Abdul Azim Khan",
      "photoUrl": "",
      "userId": "07649404245608822143"
     },
     "user_tz": -330
    },
    "id": "9CW2oMyRGxDa",
    "outputId": "67458bfd-0e87-4411-c645-f4c1cf644b8e"
   },
   "outputs": [
    {
     "data": {
      "text/plain": [
       "Petrol    6251\n",
       "Hybrid    6251\n",
       "Diesel    6251\n",
       "Other     6251\n",
       "Name: fuelType, dtype: int64"
      ]
     },
     "execution_count": 41,
     "metadata": {},
     "output_type": "execute_result"
    }
   ],
   "source": [
    "from sklearn.utils import resample\n",
    "\n",
    "df_majority = df[df.fuelType==\"Diesel\"]\n",
    "df_minority1 = df[df.fuelType==\"Hybrid\"]\n",
    "df_minority2 = df[df.fuelType==\"Other\"]\n",
    "df_minority3 = df[df.fuelType==\"Petrol\"]\n",
    "\n",
    "\n",
    "df_minority_resampled1 = resample(df_minority1,replace=True,n_samples=len(df_majority),random_state=42)\n",
    "df_minority_resampled2 = resample(df_minority2,replace=True,n_samples=len(df_majority),random_state=42)\n",
    "df_minority_resampled3 = resample(df_minority3,replace=True,n_samples=len(df_majority),random_state=42)\n",
    "\n",
    "\n",
    "\n",
    "df_upsampled = pd.concat([df_minority_resampled1,df_minority_resampled2,df_minority_resampled3,df_majority])\n",
    "\n",
    "df_upsampled.fuelType.value_counts()"
   ]
  },
  {
   "cell_type": "code",
   "execution_count": 42,
   "metadata": {
    "colab": {
     "base_uri": "https://localhost:8080/"
    },
    "executionInfo": {
     "elapsed": 81,
     "status": "ok",
     "timestamp": 1628491938044,
     "user": {
      "displayName": "Abdul Azim Khan",
      "photoUrl": "",
      "userId": "07649404245608822143"
     },
     "user_tz": -330
    },
    "id": "aePExmU1I9yq",
    "outputId": "e0bd8fb5-5bd0-42f0-8255-62ccd3b2d2f2"
   },
   "outputs": [
    {
     "data": {
      "text/plain": [
       "Index(['price', 'transmission', 'mileage', 'fuelType', 'tax', 'mpg',\n",
       "       'engineSize', 'age'],\n",
       "      dtype='object')"
      ]
     },
     "execution_count": 42,
     "metadata": {},
     "output_type": "execute_result"
    }
   ],
   "source": [
    "df_upsampled.columns"
   ]
  },
  {
   "cell_type": "code",
   "execution_count": 43,
   "metadata": {
    "executionInfo": {
     "elapsed": 82,
     "status": "ok",
     "timestamp": 1628491938050,
     "user": {
      "displayName": "Abdul Azim Khan",
      "photoUrl": "",
      "userId": "07649404245608822143"
     },
     "user_tz": -330
    },
    "id": "XFL8sxclI92B"
   },
   "outputs": [],
   "source": [
    "cat_df1 = df_upsampled.select_dtypes(include=\"object\")\n",
    "num_df1 = df_upsampled.select_dtypes(exclude=\"object\")"
   ]
  },
  {
   "cell_type": "code",
   "execution_count": 44,
   "metadata": {
    "colab": {
     "base_uri": "https://localhost:8080/"
    },
    "executionInfo": {
     "elapsed": 84,
     "status": "ok",
     "timestamp": 1628491938053,
     "user": {
      "displayName": "Abdul Azim Khan",
      "photoUrl": "",
      "userId": "07649404245608822143"
     },
     "user_tz": -330
    },
    "id": "Ya4UdmQbI95m",
    "outputId": "664adb0c-06f0-4c3e-a228-a209b9ed2cdd"
   },
   "outputs": [
    {
     "data": {
      "text/plain": [
       "(25004, 7)"
      ]
     },
     "execution_count": 44,
     "metadata": {},
     "output_type": "execute_result"
    }
   ],
   "source": [
    "cat_df1_dum = pd.get_dummies(cat_df1)\n",
    "cat_df1_dum.shape"
   ]
  },
  {
   "cell_type": "code",
   "execution_count": 45,
   "metadata": {
    "colab": {
     "base_uri": "https://localhost:8080/"
    },
    "executionInfo": {
     "elapsed": 83,
     "status": "ok",
     "timestamp": 1628491938056,
     "user": {
      "displayName": "Abdul Azim Khan",
      "photoUrl": "",
      "userId": "07649404245608822143"
     },
     "user_tz": -330
    },
    "id": "pltWnGY070Ey",
    "outputId": "9a933b5a-d537-4271-cc5f-a64005592878"
   },
   "outputs": [
    {
     "data": {
      "text/plain": [
       "(25004, 6)"
      ]
     },
     "execution_count": 45,
     "metadata": {},
     "output_type": "execute_result"
    }
   ],
   "source": [
    "num_df1.shape"
   ]
  },
  {
   "cell_type": "code",
   "execution_count": 46,
   "metadata": {
    "executionInfo": {
     "elapsed": 49,
     "status": "ok",
     "timestamp": 1628491938057,
     "user": {
      "displayName": "Abdul Azim Khan",
      "photoUrl": "",
      "userId": "07649404245608822143"
     },
     "user_tz": -330
    },
    "id": "Ngcl5q5KP6lo"
   },
   "outputs": [],
   "source": [
    "df_new= pd.concat([cat_df1_dum,num_df1],axis=1)"
   ]
  },
  {
   "cell_type": "code",
   "execution_count": 47,
   "metadata": {
    "colab": {
     "base_uri": "https://localhost:8080/"
    },
    "executionInfo": {
     "elapsed": 49,
     "status": "ok",
     "timestamp": 1628491938058,
     "user": {
      "displayName": "Abdul Azim Khan",
      "photoUrl": "",
      "userId": "07649404245608822143"
     },
     "user_tz": -330
    },
    "id": "3PFVRmorM5SX",
    "outputId": "850ab62b-ba24-44d2-91dc-41e7fe62f312"
   },
   "outputs": [
    {
     "data": {
      "text/plain": [
       "Index(['transmission_Automatic', 'transmission_Manual',\n",
       "       'transmission_Semi-Auto', 'fuelType_Diesel', 'fuelType_Hybrid',\n",
       "       'fuelType_Other', 'fuelType_Petrol', 'price', 'mileage', 'tax', 'mpg',\n",
       "       'engineSize', 'age'],\n",
       "      dtype='object')"
      ]
     },
     "execution_count": 47,
     "metadata": {},
     "output_type": "execute_result"
    }
   ],
   "source": [
    "df_new.columns"
   ]
  },
  {
   "cell_type": "code",
   "execution_count": 48,
   "metadata": {
    "executionInfo": {
     "elapsed": 42,
     "status": "ok",
     "timestamp": 1628491938059,
     "user": {
      "displayName": "Abdul Azim Khan",
      "photoUrl": "",
      "userId": "07649404245608822143"
     },
     "user_tz": -330
    },
    "id": "YNjfmliGM-Bb"
   },
   "outputs": [],
   "source": [
    "y1 = df_new[\"price\"]\n",
    "X1 = df_new.drop(\"price\",axis=1)"
   ]
  },
  {
   "cell_type": "code",
   "execution_count": 49,
   "metadata": {
    "executionInfo": {
     "elapsed": 42,
     "status": "ok",
     "timestamp": 1628491938060,
     "user": {
      "displayName": "Abdul Azim Khan",
      "photoUrl": "",
      "userId": "07649404245608822143"
     },
     "user_tz": -330
    },
    "id": "9C6T6sDl70Hw"
   },
   "outputs": [],
   "source": [
    "# Train test split\n",
    "\n",
    "X_train1,X_test1,y_train1,y_test1 = train_test_split(X1,y1,test_size=0.2,random_state=42)"
   ]
  },
  {
   "cell_type": "code",
   "execution_count": 50,
   "metadata": {
    "colab": {
     "base_uri": "https://localhost:8080/"
    },
    "executionInfo": {
     "elapsed": 4617,
     "status": "ok",
     "timestamp": 1628491942636,
     "user": {
      "displayName": "Abdul Azim Khan",
      "photoUrl": "",
      "userId": "07649404245608822143"
     },
     "user_tz": -330
    },
    "id": "EM0875AmRjtQ",
    "outputId": "d1a50b5b-f7bc-4665-82a4-faf7d5ba7298"
   },
   "outputs": [
    {
     "name": "stdout",
     "output_type": "stream",
     "text": [
      "Training score for : RandomForestRegressor() ---------> 0.995303783750715\n",
      "Training score for : RandomForestRegressor() ---------> 0.9737133106359442\n",
      "--------------------------------------------------------\n",
      "Training score for : LinearRegression() ---------> 0.7811601921765208\n",
      "Training score for : LinearRegression() ---------> 0.7747455133135153\n",
      "--------------------------------------------------------\n",
      "Training score for : XGBRegressor(base_score=0.5, booster='gbtree', colsample_bylevel=1,\n",
      "             colsample_bynode=1, colsample_bytree=1, gamma=0, gpu_id=-1,\n",
      "             importance_type='gain', interaction_constraints='',\n",
      "             learning_rate=0.300000012, max_delta_step=0, max_depth=6,\n",
      "             min_child_weight=1, missing=nan, monotone_constraints='()',\n",
      "             n_estimators=100, n_jobs=4, num_parallel_tree=1, random_state=0,\n",
      "             reg_alpha=0, reg_lambda=1, scale_pos_weight=1, subsample=1,\n",
      "             tree_method='exact', validate_parameters=1, verbosity=None) ---------> 0.9833277119317385\n",
      "Training score for : XGBRegressor(base_score=0.5, booster='gbtree', colsample_bylevel=1,\n",
      "             colsample_bynode=1, colsample_bytree=1, gamma=0, gpu_id=-1,\n",
      "             importance_type='gain', interaction_constraints='',\n",
      "             learning_rate=0.300000012, max_delta_step=0, max_depth=6,\n",
      "             min_child_weight=1, missing=nan, monotone_constraints='()',\n",
      "             n_estimators=100, n_jobs=4, num_parallel_tree=1, random_state=0,\n",
      "             reg_alpha=0, reg_lambda=1, scale_pos_weight=1, subsample=1,\n",
      "             tree_method='exact', validate_parameters=1, verbosity=None) ---------> 0.9729610817837757\n",
      "--------------------------------------------------------\n"
     ]
    }
   ],
   "source": [
    "# Evaluating model on upsampled data\n",
    "evaluate_models(X_train1,X_test1,y_train1,y_test1)"
   ]
  },
  {
   "cell_type": "markdown",
   "metadata": {
    "id": "91TZB4SSsaBK"
   },
   "source": [
    "### Lets try modeling with removing outliers from `price` feature "
   ]
  },
  {
   "cell_type": "code",
   "execution_count": 51,
   "metadata": {
    "executionInfo": {
     "elapsed": 614,
     "status": "ok",
     "timestamp": 1628492383411,
     "user": {
      "displayName": "Abdul Azim Khan",
      "photoUrl": "",
      "userId": "07649404245608822143"
     },
     "user_tz": -330
    },
    "id": "4JGZJ4v770Ny"
   },
   "outputs": [],
   "source": [
    "\n",
    "# calculate interquartile range\n",
    "q25, q75 = np.percentile(df_new[\"price\"], 25), np.percentile(df_new[\"price\"], 75)\n",
    "iqr = q75 - q25"
   ]
  },
  {
   "cell_type": "code",
   "execution_count": 52,
   "metadata": {
    "colab": {
     "base_uri": "https://localhost:8080/"
    },
    "executionInfo": {
     "elapsed": 5,
     "status": "ok",
     "timestamp": 1628492490229,
     "user": {
      "displayName": "Abdul Azim Khan",
      "photoUrl": "",
      "userId": "07649404245608822143"
     },
     "user_tz": -330
    },
    "id": "U_4dj2idVAag",
    "outputId": "fcfd0b2c-1e2c-4a2a-e9b0-1f2bb58a46b6"
   },
   "outputs": [
    {
     "data": {
      "text/plain": [
       "17085.0"
      ]
     },
     "execution_count": 52,
     "metadata": {},
     "output_type": "execute_result"
    }
   ],
   "source": [
    "iqr*1.5"
   ]
  },
  {
   "cell_type": "code",
   "execution_count": 53,
   "metadata": {
    "executionInfo": {
     "elapsed": 7,
     "status": "ok",
     "timestamp": 1628492492609,
     "user": {
      "displayName": "Abdul Azim Khan",
      "photoUrl": "",
      "userId": "07649404245608822143"
     },
     "user_tz": -330
    },
    "id": "wfePPqwkGBtC"
   },
   "outputs": [],
   "source": [
    "# calculate the outlier cutoff\n",
    "cut_off = iqr * 1.5\n",
    "lower, upper = q25 - cut_off, q75 + cut_off"
   ]
  },
  {
   "cell_type": "code",
   "execution_count": 54,
   "metadata": {
    "colab": {
     "base_uri": "https://localhost:8080/"
    },
    "executionInfo": {
     "elapsed": 9,
     "status": "ok",
     "timestamp": 1628492511865,
     "user": {
      "displayName": "Abdul Azim Khan",
      "photoUrl": "",
      "userId": "07649404245608822143"
     },
     "user_tz": -330
    },
    "id": "m09xEHmeGcGk",
    "outputId": "f4778bdd-47db-429f-efe0-d5ca1a1198f6"
   },
   "outputs": [
    {
     "data": {
      "text/plain": [
       "(-3486.0, 42074.0)"
      ]
     },
     "execution_count": 54,
     "metadata": {},
     "output_type": "execute_result"
    }
   ],
   "source": [
    "lower,upper"
   ]
  },
  {
   "cell_type": "code",
   "execution_count": 55,
   "metadata": {
    "executionInfo": {
     "elapsed": 507,
     "status": "ok",
     "timestamp": 1628492595026,
     "user": {
      "displayName": "Abdul Azim Khan",
      "photoUrl": "",
      "userId": "07649404245608822143"
     },
     "user_tz": -330
    },
    "id": "u1_KSZ1uHfHC"
   },
   "outputs": [],
   "source": [
    "# identify outliers\n",
    "outliers = [x for x in df_new[\"price\"] if x < lower or x > upper]\n"
   ]
  },
  {
   "cell_type": "code",
   "execution_count": 56,
   "metadata": {
    "colab": {
     "base_uri": "https://localhost:8080/"
    },
    "executionInfo": {
     "elapsed": 567,
     "status": "ok",
     "timestamp": 1628492734195,
     "user": {
      "displayName": "Abdul Azim Khan",
      "photoUrl": "",
      "userId": "07649404245608822143"
     },
     "user_tz": -330
    },
    "id": "kwY87Y_KHg6B",
    "outputId": "c47e537f-2f8d-49bb-f6d0-ce34a4e0b70b"
   },
   "outputs": [
    {
     "name": "stdout",
     "output_type": "stream",
     "text": [
      "Non-outlier observations: 24659\n"
     ]
    }
   ],
   "source": [
    "# Assigning the cleaned data to an array\n",
    "outliers_removed = [x for x in df_new[\"price\"] if x >= lower and x <= upper]\n",
    "print('Non-outlier observations: %d' % len(outliers_removed))"
   ]
  },
  {
   "cell_type": "code",
   "execution_count": 57,
   "metadata": {
    "colab": {
     "base_uri": "https://localhost:8080/"
    },
    "executionInfo": {
     "elapsed": 485,
     "status": "ok",
     "timestamp": 1628492774556,
     "user": {
      "displayName": "Abdul Azim Khan",
      "photoUrl": "",
      "userId": "07649404245608822143"
     },
     "user_tz": -330
    },
    "id": "l-1JPch5HhNS",
    "outputId": "58da8cf9-1e67-4112-b9e2-a83032dbeb28"
   },
   "outputs": [
    {
     "data": {
      "text/plain": [
       "25004"
      ]
     },
     "execution_count": 57,
     "metadata": {},
     "output_type": "execute_result"
    }
   ],
   "source": [
    "len(df_new[\"price\"])"
   ]
  },
  {
   "cell_type": "code",
   "execution_count": 58,
   "metadata": {
    "colab": {
     "base_uri": "https://localhost:8080/"
    },
    "executionInfo": {
     "elapsed": 466,
     "status": "ok",
     "timestamp": 1628493210758,
     "user": {
      "displayName": "Abdul Azim Khan",
      "photoUrl": "",
      "userId": "07649404245608822143"
     },
     "user_tz": -330
    },
    "id": "8cYTKu2Ywlhe",
    "outputId": "231fe34f-ff0d-4c55-fa23-634493eb91aa"
   },
   "outputs": [
    {
     "data": {
      "text/plain": [
       "array([28995, 30498, 16998, ...,  8950,  2995,  5990], dtype=int64)"
      ]
     },
     "execution_count": 58,
     "metadata": {},
     "output_type": "execute_result"
    }
   ],
   "source": [
    "df_new[\"price\"].values"
   ]
  },
  {
   "cell_type": "code",
   "execution_count": 59,
   "metadata": {
    "executionInfo": {
     "elapsed": 512,
     "status": "ok",
     "timestamp": 1628493645977,
     "user": {
      "displayName": "Abdul Azim Khan",
      "photoUrl": "",
      "userId": "07649404245608822143"
     },
     "user_tz": -330
    },
    "id": "pZCE-VGQw9f0"
   },
   "outputs": [],
   "source": [
    "df_new1 =df_new[df_new[\"price\"].isin(outliers_removed)]"
   ]
  },
  {
   "cell_type": "code",
   "execution_count": 60,
   "metadata": {
    "executionInfo": {
     "elapsed": 460,
     "status": "ok",
     "timestamp": 1628493702609,
     "user": {
      "displayName": "Abdul Azim Khan",
      "photoUrl": "",
      "userId": "07649404245608822143"
     },
     "user_tz": -330
    },
    "id": "29ORje5oHhY1"
   },
   "outputs": [],
   "source": [
    "y2 = df_new1[\"price\"]\n",
    "X2 = df_new1.drop(\"price\",axis=1)"
   ]
  },
  {
   "cell_type": "code",
   "execution_count": 61,
   "metadata": {
    "executionInfo": {
     "elapsed": 520,
     "status": "ok",
     "timestamp": 1628493749181,
     "user": {
      "displayName": "Abdul Azim Khan",
      "photoUrl": "",
      "userId": "07649404245608822143"
     },
     "user_tz": -330
    },
    "id": "j95XOOHPHhpQ"
   },
   "outputs": [],
   "source": [
    "# Train test split\n",
    "\n",
    "X_train2,X_test2,y_train2,y_test2 = train_test_split(X2,y2,test_size=0.2,random_state=42)"
   ]
  },
  {
   "cell_type": "code",
   "execution_count": 62,
   "metadata": {
    "colab": {
     "base_uri": "https://localhost:8080/"
    },
    "executionInfo": {
     "elapsed": 5276,
     "status": "ok",
     "timestamp": 1628493785148,
     "user": {
      "displayName": "Abdul Azim Khan",
      "photoUrl": "",
      "userId": "07649404245608822143"
     },
     "user_tz": -330
    },
    "id": "zQo1dEENCxX1",
    "outputId": "bf6766e1-9ca1-4175-a260-04649fcf9790"
   },
   "outputs": [
    {
     "name": "stdout",
     "output_type": "stream",
     "text": [
      "Training score for : RandomForestRegressor() ---------> 0.9954993599097031\n",
      "Training score for : RandomForestRegressor() ---------> 0.969847231692063\n",
      "--------------------------------------------------------\n",
      "Training score for : LinearRegression() ---------> 0.8011705600702876\n",
      "Training score for : LinearRegression() ---------> 0.8019176799669229\n",
      "--------------------------------------------------------\n",
      "Training score for : XGBRegressor(base_score=0.5, booster='gbtree', colsample_bylevel=1,\n",
      "             colsample_bynode=1, colsample_bytree=1, gamma=0, gpu_id=-1,\n",
      "             importance_type='gain', interaction_constraints='',\n",
      "             learning_rate=0.300000012, max_delta_step=0, max_depth=6,\n",
      "             min_child_weight=1, missing=nan, monotone_constraints='()',\n",
      "             n_estimators=100, n_jobs=4, num_parallel_tree=1, random_state=0,\n",
      "             reg_alpha=0, reg_lambda=1, scale_pos_weight=1, subsample=1,\n",
      "             tree_method='exact', validate_parameters=1, verbosity=None) ---------> 0.9831717629452474\n",
      "Training score for : XGBRegressor(base_score=0.5, booster='gbtree', colsample_bylevel=1,\n",
      "             colsample_bynode=1, colsample_bytree=1, gamma=0, gpu_id=-1,\n",
      "             importance_type='gain', interaction_constraints='',\n",
      "             learning_rate=0.300000012, max_delta_step=0, max_depth=6,\n",
      "             min_child_weight=1, missing=nan, monotone_constraints='()',\n",
      "             n_estimators=100, n_jobs=4, num_parallel_tree=1, random_state=0,\n",
      "             reg_alpha=0, reg_lambda=1, scale_pos_weight=1, subsample=1,\n",
      "             tree_method='exact', validate_parameters=1, verbosity=None) ---------> 0.968507251247537\n",
      "--------------------------------------------------------\n"
     ]
    }
   ],
   "source": [
    "# Evaluating on upsampled and outlier treated data\n",
    "evaluate_models(X_train2,X_test2,y_train2,y_test2)"
   ]
  },
  {
   "cell_type": "code",
   "execution_count": 64,
   "metadata": {},
   "outputs": [
    {
     "data": {
      "text/html": [
       "<div>\n",
       "<style scoped>\n",
       "    .dataframe tbody tr th:only-of-type {\n",
       "        vertical-align: middle;\n",
       "    }\n",
       "\n",
       "    .dataframe tbody tr th {\n",
       "        vertical-align: top;\n",
       "    }\n",
       "\n",
       "    .dataframe thead th {\n",
       "        text-align: right;\n",
       "    }\n",
       "</style>\n",
       "<table border=\"1\" class=\"dataframe\">\n",
       "  <thead>\n",
       "    <tr style=\"text-align: right;\">\n",
       "      <th></th>\n",
       "      <th>transmission_Automatic</th>\n",
       "      <th>transmission_Manual</th>\n",
       "      <th>transmission_Semi-Auto</th>\n",
       "      <th>fuelType_Diesel</th>\n",
       "      <th>fuelType_Hybrid</th>\n",
       "      <th>fuelType_Other</th>\n",
       "      <th>fuelType_Petrol</th>\n",
       "      <th>mileage</th>\n",
       "      <th>tax</th>\n",
       "      <th>mpg</th>\n",
       "      <th>engineSize</th>\n",
       "      <th>age</th>\n",
       "    </tr>\n",
       "  </thead>\n",
       "  <tbody>\n",
       "    <tr>\n",
       "      <th>5586</th>\n",
       "      <td>1</td>\n",
       "      <td>0</td>\n",
       "      <td>0</td>\n",
       "      <td>0</td>\n",
       "      <td>0</td>\n",
       "      <td>1</td>\n",
       "      <td>0</td>\n",
       "      <td>24695</td>\n",
       "      <td>160</td>\n",
       "      <td>44.1</td>\n",
       "      <td>2.0</td>\n",
       "      <td>5</td>\n",
       "    </tr>\n",
       "    <tr>\n",
       "      <th>6385</th>\n",
       "      <td>0</td>\n",
       "      <td>1</td>\n",
       "      <td>0</td>\n",
       "      <td>1</td>\n",
       "      <td>0</td>\n",
       "      <td>0</td>\n",
       "      <td>0</td>\n",
       "      <td>55500</td>\n",
       "      <td>20</td>\n",
       "      <td>68.9</td>\n",
       "      <td>1.6</td>\n",
       "      <td>5</td>\n",
       "    </tr>\n",
       "    <tr>\n",
       "      <th>5394</th>\n",
       "      <td>1</td>\n",
       "      <td>0</td>\n",
       "      <td>0</td>\n",
       "      <td>0</td>\n",
       "      <td>0</td>\n",
       "      <td>1</td>\n",
       "      <td>0</td>\n",
       "      <td>5000</td>\n",
       "      <td>145</td>\n",
       "      <td>52.3</td>\n",
       "      <td>2.0</td>\n",
       "      <td>2</td>\n",
       "    </tr>\n",
       "    <tr>\n",
       "      <th>10748</th>\n",
       "      <td>0</td>\n",
       "      <td>0</td>\n",
       "      <td>1</td>\n",
       "      <td>1</td>\n",
       "      <td>0</td>\n",
       "      <td>0</td>\n",
       "      <td>0</td>\n",
       "      <td>22585</td>\n",
       "      <td>145</td>\n",
       "      <td>49.6</td>\n",
       "      <td>2.0</td>\n",
       "      <td>3</td>\n",
       "    </tr>\n",
       "    <tr>\n",
       "      <th>2556</th>\n",
       "      <td>0</td>\n",
       "      <td>1</td>\n",
       "      <td>0</td>\n",
       "      <td>1</td>\n",
       "      <td>0</td>\n",
       "      <td>0</td>\n",
       "      <td>0</td>\n",
       "      <td>52588</td>\n",
       "      <td>20</td>\n",
       "      <td>67.3</td>\n",
       "      <td>2.0</td>\n",
       "      <td>5</td>\n",
       "    </tr>\n",
       "    <tr>\n",
       "      <th>...</th>\n",
       "      <td>...</td>\n",
       "      <td>...</td>\n",
       "      <td>...</td>\n",
       "      <td>...</td>\n",
       "      <td>...</td>\n",
       "      <td>...</td>\n",
       "      <td>...</td>\n",
       "      <td>...</td>\n",
       "      <td>...</td>\n",
       "      <td>...</td>\n",
       "      <td>...</td>\n",
       "      <td>...</td>\n",
       "    </tr>\n",
       "    <tr>\n",
       "      <th>1903</th>\n",
       "      <td>0</td>\n",
       "      <td>0</td>\n",
       "      <td>1</td>\n",
       "      <td>0</td>\n",
       "      <td>1</td>\n",
       "      <td>0</td>\n",
       "      <td>0</td>\n",
       "      <td>810</td>\n",
       "      <td>150</td>\n",
       "      <td>44.8</td>\n",
       "      <td>1.5</td>\n",
       "      <td>1</td>\n",
       "    </tr>\n",
       "    <tr>\n",
       "      <th>1691</th>\n",
       "      <td>0</td>\n",
       "      <td>1</td>\n",
       "      <td>0</td>\n",
       "      <td>1</td>\n",
       "      <td>0</td>\n",
       "      <td>0</td>\n",
       "      <td>0</td>\n",
       "      <td>61958</td>\n",
       "      <td>20</td>\n",
       "      <td>67.3</td>\n",
       "      <td>2.0</td>\n",
       "      <td>7</td>\n",
       "    </tr>\n",
       "    <tr>\n",
       "      <th>10304</th>\n",
       "      <td>0</td>\n",
       "      <td>1</td>\n",
       "      <td>0</td>\n",
       "      <td>1</td>\n",
       "      <td>0</td>\n",
       "      <td>0</td>\n",
       "      <td>0</td>\n",
       "      <td>50618</td>\n",
       "      <td>145</td>\n",
       "      <td>53.3</td>\n",
       "      <td>2.0</td>\n",
       "      <td>5</td>\n",
       "    </tr>\n",
       "    <tr>\n",
       "      <th>3368</th>\n",
       "      <td>0</td>\n",
       "      <td>1</td>\n",
       "      <td>0</td>\n",
       "      <td>0</td>\n",
       "      <td>0</td>\n",
       "      <td>0</td>\n",
       "      <td>1</td>\n",
       "      <td>5000</td>\n",
       "      <td>145</td>\n",
       "      <td>49.6</td>\n",
       "      <td>1.5</td>\n",
       "      <td>2</td>\n",
       "    </tr>\n",
       "    <tr>\n",
       "      <th>5882</th>\n",
       "      <td>0</td>\n",
       "      <td>0</td>\n",
       "      <td>1</td>\n",
       "      <td>0</td>\n",
       "      <td>1</td>\n",
       "      <td>0</td>\n",
       "      <td>0</td>\n",
       "      <td>4000</td>\n",
       "      <td>135</td>\n",
       "      <td>41.5</td>\n",
       "      <td>1.4</td>\n",
       "      <td>1</td>\n",
       "    </tr>\n",
       "  </tbody>\n",
       "</table>\n",
       "<p>4932 rows × 12 columns</p>\n",
       "</div>"
      ],
      "text/plain": [
       "       transmission_Automatic  transmission_Manual  transmission_Semi-Auto  \\\n",
       "5586                        1                    0                       0   \n",
       "6385                        0                    1                       0   \n",
       "5394                        1                    0                       0   \n",
       "10748                       0                    0                       1   \n",
       "2556                        0                    1                       0   \n",
       "...                       ...                  ...                     ...   \n",
       "1903                        0                    0                       1   \n",
       "1691                        0                    1                       0   \n",
       "10304                       0                    1                       0   \n",
       "3368                        0                    1                       0   \n",
       "5882                        0                    0                       1   \n",
       "\n",
       "       fuelType_Diesel  fuelType_Hybrid  fuelType_Other  fuelType_Petrol  \\\n",
       "5586                 0                0               1                0   \n",
       "6385                 1                0               0                0   \n",
       "5394                 0                0               1                0   \n",
       "10748                1                0               0                0   \n",
       "2556                 1                0               0                0   \n",
       "...                ...              ...             ...              ...   \n",
       "1903                 0                1               0                0   \n",
       "1691                 1                0               0                0   \n",
       "10304                1                0               0                0   \n",
       "3368                 0                0               0                1   \n",
       "5882                 0                1               0                0   \n",
       "\n",
       "       mileage  tax   mpg  engineSize  age  \n",
       "5586     24695  160  44.1         2.0    5  \n",
       "6385     55500   20  68.9         1.6    5  \n",
       "5394      5000  145  52.3         2.0    2  \n",
       "10748    22585  145  49.6         2.0    3  \n",
       "2556     52588   20  67.3         2.0    5  \n",
       "...        ...  ...   ...         ...  ...  \n",
       "1903       810  150  44.8         1.5    1  \n",
       "1691     61958   20  67.3         2.0    7  \n",
       "10304    50618  145  53.3         2.0    5  \n",
       "3368      5000  145  49.6         1.5    2  \n",
       "5882      4000  135  41.5         1.4    1  \n",
       "\n",
       "[4932 rows x 12 columns]"
      ]
     },
     "execution_count": 64,
     "metadata": {},
     "output_type": "execute_result"
    }
   ],
   "source": [
    "X_test2"
   ]
  },
  {
   "cell_type": "code",
   "execution_count": 63,
   "metadata": {
    "executionInfo": {
     "elapsed": 737,
     "status": "ok",
     "timestamp": 1628497136093,
     "user": {
      "displayName": "Abdul Azim Khan",
      "photoUrl": "",
      "userId": "07649404245608822143"
     },
     "user_tz": -330
    },
    "id": "Dj48YOx470SM"
   },
   "outputs": [
    {
     "name": "stdout",
     "output_type": "stream",
     "text": [
      "Score on test data with  10 estimators is  0.9688386030020503\n",
      "-----------------------------------------------------------------------\n",
      "Score on test data with  30 estimators is  0.9698666211238346\n",
      "-----------------------------------------------------------------------\n",
      "Score on test data with  50 estimators is  0.9693432110309133\n",
      "-----------------------------------------------------------------------\n",
      "Score on test data with  70 estimators is  0.9700745531265199\n",
      "-----------------------------------------------------------------------\n",
      "Score on test data with  90 estimators is  0.9698202184955858\n",
      "-----------------------------------------------------------------------\n",
      "Score on test data with  110 estimators is  0.9698368572232079\n",
      "-----------------------------------------------------------------------\n"
     ]
    },
    {
     "ename": "KeyboardInterrupt",
     "evalue": "",
     "output_type": "error",
     "traceback": [
      "\u001b[1;31m---------------------------------------------------------------------------\u001b[0m",
      "\u001b[1;31mKeyboardInterrupt\u001b[0m                         Traceback (most recent call last)",
      "\u001b[1;32m<ipython-input-63-2c439d703ec5>\u001b[0m in \u001b[0;36m<module>\u001b[1;34m\u001b[0m\n\u001b[0;32m      1\u001b[0m \u001b[1;32mfor\u001b[0m \u001b[0mi\u001b[0m \u001b[1;32min\u001b[0m \u001b[0mrange\u001b[0m\u001b[1;33m(\u001b[0m\u001b[1;36m10\u001b[0m\u001b[1;33m,\u001b[0m\u001b[1;36m300\u001b[0m\u001b[1;33m,\u001b[0m\u001b[1;36m20\u001b[0m\u001b[1;33m)\u001b[0m\u001b[1;33m:\u001b[0m\u001b[1;33m\u001b[0m\u001b[1;33m\u001b[0m\u001b[0m\n\u001b[0;32m      2\u001b[0m     \u001b[0mrfr\u001b[0m\u001b[1;33m=\u001b[0m \u001b[0mRandomForestRegressor\u001b[0m\u001b[1;33m(\u001b[0m\u001b[0mn_estimators\u001b[0m\u001b[1;33m=\u001b[0m\u001b[0mi\u001b[0m\u001b[1;33m)\u001b[0m\u001b[1;33m\u001b[0m\u001b[1;33m\u001b[0m\u001b[0m\n\u001b[1;32m----> 3\u001b[1;33m     \u001b[0mrfr\u001b[0m\u001b[1;33m.\u001b[0m\u001b[0mfit\u001b[0m\u001b[1;33m(\u001b[0m\u001b[0mX_train2\u001b[0m\u001b[1;33m,\u001b[0m\u001b[0my_train2\u001b[0m\u001b[1;33m)\u001b[0m\u001b[1;33m\u001b[0m\u001b[1;33m\u001b[0m\u001b[0m\n\u001b[0m\u001b[0;32m      4\u001b[0m     \u001b[0mprint\u001b[0m\u001b[1;33m(\u001b[0m\u001b[1;34m\"Score on test data with \"\u001b[0m\u001b[1;33m,\u001b[0m\u001b[0mi\u001b[0m\u001b[1;33m,\u001b[0m\u001b[1;34m\"estimators is \"\u001b[0m\u001b[1;33m,\u001b[0m\u001b[0mrfr\u001b[0m\u001b[1;33m.\u001b[0m\u001b[0mscore\u001b[0m\u001b[1;33m(\u001b[0m\u001b[0mX_test2\u001b[0m\u001b[1;33m,\u001b[0m\u001b[0my_test2\u001b[0m\u001b[1;33m)\u001b[0m\u001b[1;33m)\u001b[0m\u001b[1;33m\u001b[0m\u001b[1;33m\u001b[0m\u001b[0m\n\u001b[0;32m      5\u001b[0m     \u001b[0mprint\u001b[0m\u001b[1;33m(\u001b[0m\u001b[1;34m\"-----------------------------------------------------------------------\"\u001b[0m\u001b[1;33m)\u001b[0m\u001b[1;33m\u001b[0m\u001b[1;33m\u001b[0m\u001b[0m\n",
      "\u001b[1;32mF:\\abdulazimkhan\\BI\\softwares\\conda_package\\lib\\site-packages\\sklearn\\ensemble\\_forest.py\u001b[0m in \u001b[0;36mfit\u001b[1;34m(self, X, y, sample_weight)\u001b[0m\n\u001b[0;32m    384\u001b[0m             \u001b[1;31m# parallel_backend contexts set at a higher level,\u001b[0m\u001b[1;33m\u001b[0m\u001b[1;33m\u001b[0m\u001b[1;33m\u001b[0m\u001b[0m\n\u001b[0;32m    385\u001b[0m             \u001b[1;31m# since correctness does not rely on using threads.\u001b[0m\u001b[1;33m\u001b[0m\u001b[1;33m\u001b[0m\u001b[1;33m\u001b[0m\u001b[0m\n\u001b[1;32m--> 386\u001b[1;33m             trees = Parallel(n_jobs=self.n_jobs, verbose=self.verbose,\n\u001b[0m\u001b[0;32m    387\u001b[0m                              \u001b[1;33m**\u001b[0m\u001b[0m_joblib_parallel_args\u001b[0m\u001b[1;33m(\u001b[0m\u001b[0mprefer\u001b[0m\u001b[1;33m=\u001b[0m\u001b[1;34m'threads'\u001b[0m\u001b[1;33m)\u001b[0m\u001b[1;33m)\u001b[0m\u001b[1;33m(\u001b[0m\u001b[1;33m\u001b[0m\u001b[1;33m\u001b[0m\u001b[0m\n\u001b[0;32m    388\u001b[0m                 delayed(_parallel_build_trees)(\n",
      "\u001b[1;32mF:\\abdulazimkhan\\BI\\softwares\\conda_package\\lib\\site-packages\\joblib\\parallel.py\u001b[0m in \u001b[0;36m__call__\u001b[1;34m(self, iterable)\u001b[0m\n\u001b[0;32m   1049\u001b[0m                 \u001b[0mself\u001b[0m\u001b[1;33m.\u001b[0m\u001b[0m_iterating\u001b[0m \u001b[1;33m=\u001b[0m \u001b[0mself\u001b[0m\u001b[1;33m.\u001b[0m\u001b[0m_original_iterator\u001b[0m \u001b[1;32mis\u001b[0m \u001b[1;32mnot\u001b[0m \u001b[1;32mNone\u001b[0m\u001b[1;33m\u001b[0m\u001b[1;33m\u001b[0m\u001b[0m\n\u001b[0;32m   1050\u001b[0m \u001b[1;33m\u001b[0m\u001b[0m\n\u001b[1;32m-> 1051\u001b[1;33m             \u001b[1;32mwhile\u001b[0m \u001b[0mself\u001b[0m\u001b[1;33m.\u001b[0m\u001b[0mdispatch_one_batch\u001b[0m\u001b[1;33m(\u001b[0m\u001b[0miterator\u001b[0m\u001b[1;33m)\u001b[0m\u001b[1;33m:\u001b[0m\u001b[1;33m\u001b[0m\u001b[1;33m\u001b[0m\u001b[0m\n\u001b[0m\u001b[0;32m   1052\u001b[0m                 \u001b[1;32mpass\u001b[0m\u001b[1;33m\u001b[0m\u001b[1;33m\u001b[0m\u001b[0m\n\u001b[0;32m   1053\u001b[0m \u001b[1;33m\u001b[0m\u001b[0m\n",
      "\u001b[1;32mF:\\abdulazimkhan\\BI\\softwares\\conda_package\\lib\\site-packages\\joblib\\parallel.py\u001b[0m in \u001b[0;36mdispatch_one_batch\u001b[1;34m(self, iterator)\u001b[0m\n\u001b[0;32m    864\u001b[0m                 \u001b[1;32mreturn\u001b[0m \u001b[1;32mFalse\u001b[0m\u001b[1;33m\u001b[0m\u001b[1;33m\u001b[0m\u001b[0m\n\u001b[0;32m    865\u001b[0m             \u001b[1;32melse\u001b[0m\u001b[1;33m:\u001b[0m\u001b[1;33m\u001b[0m\u001b[1;33m\u001b[0m\u001b[0m\n\u001b[1;32m--> 866\u001b[1;33m                 \u001b[0mself\u001b[0m\u001b[1;33m.\u001b[0m\u001b[0m_dispatch\u001b[0m\u001b[1;33m(\u001b[0m\u001b[0mtasks\u001b[0m\u001b[1;33m)\u001b[0m\u001b[1;33m\u001b[0m\u001b[1;33m\u001b[0m\u001b[0m\n\u001b[0m\u001b[0;32m    867\u001b[0m                 \u001b[1;32mreturn\u001b[0m \u001b[1;32mTrue\u001b[0m\u001b[1;33m\u001b[0m\u001b[1;33m\u001b[0m\u001b[0m\n\u001b[0;32m    868\u001b[0m \u001b[1;33m\u001b[0m\u001b[0m\n",
      "\u001b[1;32mF:\\abdulazimkhan\\BI\\softwares\\conda_package\\lib\\site-packages\\joblib\\parallel.py\u001b[0m in \u001b[0;36m_dispatch\u001b[1;34m(self, batch)\u001b[0m\n\u001b[0;32m    782\u001b[0m         \u001b[1;32mwith\u001b[0m \u001b[0mself\u001b[0m\u001b[1;33m.\u001b[0m\u001b[0m_lock\u001b[0m\u001b[1;33m:\u001b[0m\u001b[1;33m\u001b[0m\u001b[1;33m\u001b[0m\u001b[0m\n\u001b[0;32m    783\u001b[0m             \u001b[0mjob_idx\u001b[0m \u001b[1;33m=\u001b[0m \u001b[0mlen\u001b[0m\u001b[1;33m(\u001b[0m\u001b[0mself\u001b[0m\u001b[1;33m.\u001b[0m\u001b[0m_jobs\u001b[0m\u001b[1;33m)\u001b[0m\u001b[1;33m\u001b[0m\u001b[1;33m\u001b[0m\u001b[0m\n\u001b[1;32m--> 784\u001b[1;33m             \u001b[0mjob\u001b[0m \u001b[1;33m=\u001b[0m \u001b[0mself\u001b[0m\u001b[1;33m.\u001b[0m\u001b[0m_backend\u001b[0m\u001b[1;33m.\u001b[0m\u001b[0mapply_async\u001b[0m\u001b[1;33m(\u001b[0m\u001b[0mbatch\u001b[0m\u001b[1;33m,\u001b[0m \u001b[0mcallback\u001b[0m\u001b[1;33m=\u001b[0m\u001b[0mcb\u001b[0m\u001b[1;33m)\u001b[0m\u001b[1;33m\u001b[0m\u001b[1;33m\u001b[0m\u001b[0m\n\u001b[0m\u001b[0;32m    785\u001b[0m             \u001b[1;31m# A job can complete so quickly than its callback is\u001b[0m\u001b[1;33m\u001b[0m\u001b[1;33m\u001b[0m\u001b[1;33m\u001b[0m\u001b[0m\n\u001b[0;32m    786\u001b[0m             \u001b[1;31m# called before we get here, causing self._jobs to\u001b[0m\u001b[1;33m\u001b[0m\u001b[1;33m\u001b[0m\u001b[1;33m\u001b[0m\u001b[0m\n",
      "\u001b[1;32mF:\\abdulazimkhan\\BI\\softwares\\conda_package\\lib\\site-packages\\joblib\\_parallel_backends.py\u001b[0m in \u001b[0;36mapply_async\u001b[1;34m(self, func, callback)\u001b[0m\n\u001b[0;32m    206\u001b[0m     \u001b[1;32mdef\u001b[0m \u001b[0mapply_async\u001b[0m\u001b[1;33m(\u001b[0m\u001b[0mself\u001b[0m\u001b[1;33m,\u001b[0m \u001b[0mfunc\u001b[0m\u001b[1;33m,\u001b[0m \u001b[0mcallback\u001b[0m\u001b[1;33m=\u001b[0m\u001b[1;32mNone\u001b[0m\u001b[1;33m)\u001b[0m\u001b[1;33m:\u001b[0m\u001b[1;33m\u001b[0m\u001b[1;33m\u001b[0m\u001b[0m\n\u001b[0;32m    207\u001b[0m         \u001b[1;34m\"\"\"Schedule a func to be run\"\"\"\u001b[0m\u001b[1;33m\u001b[0m\u001b[1;33m\u001b[0m\u001b[0m\n\u001b[1;32m--> 208\u001b[1;33m         \u001b[0mresult\u001b[0m \u001b[1;33m=\u001b[0m \u001b[0mImmediateResult\u001b[0m\u001b[1;33m(\u001b[0m\u001b[0mfunc\u001b[0m\u001b[1;33m)\u001b[0m\u001b[1;33m\u001b[0m\u001b[1;33m\u001b[0m\u001b[0m\n\u001b[0m\u001b[0;32m    209\u001b[0m         \u001b[1;32mif\u001b[0m \u001b[0mcallback\u001b[0m\u001b[1;33m:\u001b[0m\u001b[1;33m\u001b[0m\u001b[1;33m\u001b[0m\u001b[0m\n\u001b[0;32m    210\u001b[0m             \u001b[0mcallback\u001b[0m\u001b[1;33m(\u001b[0m\u001b[0mresult\u001b[0m\u001b[1;33m)\u001b[0m\u001b[1;33m\u001b[0m\u001b[1;33m\u001b[0m\u001b[0m\n",
      "\u001b[1;32mF:\\abdulazimkhan\\BI\\softwares\\conda_package\\lib\\site-packages\\joblib\\_parallel_backends.py\u001b[0m in \u001b[0;36m__init__\u001b[1;34m(self, batch)\u001b[0m\n\u001b[0;32m    570\u001b[0m         \u001b[1;31m# Don't delay the application, to avoid keeping the input\u001b[0m\u001b[1;33m\u001b[0m\u001b[1;33m\u001b[0m\u001b[1;33m\u001b[0m\u001b[0m\n\u001b[0;32m    571\u001b[0m         \u001b[1;31m# arguments in memory\u001b[0m\u001b[1;33m\u001b[0m\u001b[1;33m\u001b[0m\u001b[1;33m\u001b[0m\u001b[0m\n\u001b[1;32m--> 572\u001b[1;33m         \u001b[0mself\u001b[0m\u001b[1;33m.\u001b[0m\u001b[0mresults\u001b[0m \u001b[1;33m=\u001b[0m \u001b[0mbatch\u001b[0m\u001b[1;33m(\u001b[0m\u001b[1;33m)\u001b[0m\u001b[1;33m\u001b[0m\u001b[1;33m\u001b[0m\u001b[0m\n\u001b[0m\u001b[0;32m    573\u001b[0m \u001b[1;33m\u001b[0m\u001b[0m\n\u001b[0;32m    574\u001b[0m     \u001b[1;32mdef\u001b[0m \u001b[0mget\u001b[0m\u001b[1;33m(\u001b[0m\u001b[0mself\u001b[0m\u001b[1;33m)\u001b[0m\u001b[1;33m:\u001b[0m\u001b[1;33m\u001b[0m\u001b[1;33m\u001b[0m\u001b[0m\n",
      "\u001b[1;32mF:\\abdulazimkhan\\BI\\softwares\\conda_package\\lib\\site-packages\\joblib\\parallel.py\u001b[0m in \u001b[0;36m__call__\u001b[1;34m(self)\u001b[0m\n\u001b[0;32m    260\u001b[0m         \u001b[1;31m# change the default number of processes to -1\u001b[0m\u001b[1;33m\u001b[0m\u001b[1;33m\u001b[0m\u001b[1;33m\u001b[0m\u001b[0m\n\u001b[0;32m    261\u001b[0m         \u001b[1;32mwith\u001b[0m \u001b[0mparallel_backend\u001b[0m\u001b[1;33m(\u001b[0m\u001b[0mself\u001b[0m\u001b[1;33m.\u001b[0m\u001b[0m_backend\u001b[0m\u001b[1;33m,\u001b[0m \u001b[0mn_jobs\u001b[0m\u001b[1;33m=\u001b[0m\u001b[0mself\u001b[0m\u001b[1;33m.\u001b[0m\u001b[0m_n_jobs\u001b[0m\u001b[1;33m)\u001b[0m\u001b[1;33m:\u001b[0m\u001b[1;33m\u001b[0m\u001b[1;33m\u001b[0m\u001b[0m\n\u001b[1;32m--> 262\u001b[1;33m             return [func(*args, **kwargs)\n\u001b[0m\u001b[0;32m    263\u001b[0m                     for func, args, kwargs in self.items]\n\u001b[0;32m    264\u001b[0m \u001b[1;33m\u001b[0m\u001b[0m\n",
      "\u001b[1;32mF:\\abdulazimkhan\\BI\\softwares\\conda_package\\lib\\site-packages\\joblib\\parallel.py\u001b[0m in \u001b[0;36m<listcomp>\u001b[1;34m(.0)\u001b[0m\n\u001b[0;32m    260\u001b[0m         \u001b[1;31m# change the default number of processes to -1\u001b[0m\u001b[1;33m\u001b[0m\u001b[1;33m\u001b[0m\u001b[1;33m\u001b[0m\u001b[0m\n\u001b[0;32m    261\u001b[0m         \u001b[1;32mwith\u001b[0m \u001b[0mparallel_backend\u001b[0m\u001b[1;33m(\u001b[0m\u001b[0mself\u001b[0m\u001b[1;33m.\u001b[0m\u001b[0m_backend\u001b[0m\u001b[1;33m,\u001b[0m \u001b[0mn_jobs\u001b[0m\u001b[1;33m=\u001b[0m\u001b[0mself\u001b[0m\u001b[1;33m.\u001b[0m\u001b[0m_n_jobs\u001b[0m\u001b[1;33m)\u001b[0m\u001b[1;33m:\u001b[0m\u001b[1;33m\u001b[0m\u001b[1;33m\u001b[0m\u001b[0m\n\u001b[1;32m--> 262\u001b[1;33m             return [func(*args, **kwargs)\n\u001b[0m\u001b[0;32m    263\u001b[0m                     for func, args, kwargs in self.items]\n\u001b[0;32m    264\u001b[0m \u001b[1;33m\u001b[0m\u001b[0m\n",
      "\u001b[1;32mF:\\abdulazimkhan\\BI\\softwares\\conda_package\\lib\\site-packages\\sklearn\\ensemble\\_forest.py\u001b[0m in \u001b[0;36m_parallel_build_trees\u001b[1;34m(tree, forest, X, y, sample_weight, tree_idx, n_trees, verbose, class_weight, n_samples_bootstrap)\u001b[0m\n\u001b[0;32m    166\u001b[0m                                                         indices=indices)\n\u001b[0;32m    167\u001b[0m \u001b[1;33m\u001b[0m\u001b[0m\n\u001b[1;32m--> 168\u001b[1;33m         \u001b[0mtree\u001b[0m\u001b[1;33m.\u001b[0m\u001b[0mfit\u001b[0m\u001b[1;33m(\u001b[0m\u001b[0mX\u001b[0m\u001b[1;33m,\u001b[0m \u001b[0my\u001b[0m\u001b[1;33m,\u001b[0m \u001b[0msample_weight\u001b[0m\u001b[1;33m=\u001b[0m\u001b[0mcurr_sample_weight\u001b[0m\u001b[1;33m,\u001b[0m \u001b[0mcheck_input\u001b[0m\u001b[1;33m=\u001b[0m\u001b[1;32mFalse\u001b[0m\u001b[1;33m)\u001b[0m\u001b[1;33m\u001b[0m\u001b[1;33m\u001b[0m\u001b[0m\n\u001b[0m\u001b[0;32m    169\u001b[0m     \u001b[1;32melse\u001b[0m\u001b[1;33m:\u001b[0m\u001b[1;33m\u001b[0m\u001b[1;33m\u001b[0m\u001b[0m\n\u001b[0;32m    170\u001b[0m         \u001b[0mtree\u001b[0m\u001b[1;33m.\u001b[0m\u001b[0mfit\u001b[0m\u001b[1;33m(\u001b[0m\u001b[0mX\u001b[0m\u001b[1;33m,\u001b[0m \u001b[0my\u001b[0m\u001b[1;33m,\u001b[0m \u001b[0msample_weight\u001b[0m\u001b[1;33m=\u001b[0m\u001b[0msample_weight\u001b[0m\u001b[1;33m,\u001b[0m \u001b[0mcheck_input\u001b[0m\u001b[1;33m=\u001b[0m\u001b[1;32mFalse\u001b[0m\u001b[1;33m)\u001b[0m\u001b[1;33m\u001b[0m\u001b[1;33m\u001b[0m\u001b[0m\n",
      "\u001b[1;32mF:\\abdulazimkhan\\BI\\softwares\\conda_package\\lib\\site-packages\\sklearn\\tree\\_classes.py\u001b[0m in \u001b[0;36mfit\u001b[1;34m(self, X, y, sample_weight, check_input, X_idx_sorted)\u001b[0m\n\u001b[0;32m   1240\u001b[0m         \"\"\"\n\u001b[0;32m   1241\u001b[0m \u001b[1;33m\u001b[0m\u001b[0m\n\u001b[1;32m-> 1242\u001b[1;33m         super().fit(\n\u001b[0m\u001b[0;32m   1243\u001b[0m             \u001b[0mX\u001b[0m\u001b[1;33m,\u001b[0m \u001b[0my\u001b[0m\u001b[1;33m,\u001b[0m\u001b[1;33m\u001b[0m\u001b[1;33m\u001b[0m\u001b[0m\n\u001b[0;32m   1244\u001b[0m             \u001b[0msample_weight\u001b[0m\u001b[1;33m=\u001b[0m\u001b[0msample_weight\u001b[0m\u001b[1;33m,\u001b[0m\u001b[1;33m\u001b[0m\u001b[1;33m\u001b[0m\u001b[0m\n",
      "\u001b[1;32mF:\\abdulazimkhan\\BI\\softwares\\conda_package\\lib\\site-packages\\sklearn\\tree\\_classes.py\u001b[0m in \u001b[0;36mfit\u001b[1;34m(self, X, y, sample_weight, check_input, X_idx_sorted)\u001b[0m\n\u001b[0;32m    373\u001b[0m                                            min_impurity_split)\n\u001b[0;32m    374\u001b[0m \u001b[1;33m\u001b[0m\u001b[0m\n\u001b[1;32m--> 375\u001b[1;33m         \u001b[0mbuilder\u001b[0m\u001b[1;33m.\u001b[0m\u001b[0mbuild\u001b[0m\u001b[1;33m(\u001b[0m\u001b[0mself\u001b[0m\u001b[1;33m.\u001b[0m\u001b[0mtree_\u001b[0m\u001b[1;33m,\u001b[0m \u001b[0mX\u001b[0m\u001b[1;33m,\u001b[0m \u001b[0my\u001b[0m\u001b[1;33m,\u001b[0m \u001b[0msample_weight\u001b[0m\u001b[1;33m,\u001b[0m \u001b[0mX_idx_sorted\u001b[0m\u001b[1;33m)\u001b[0m\u001b[1;33m\u001b[0m\u001b[1;33m\u001b[0m\u001b[0m\n\u001b[0m\u001b[0;32m    376\u001b[0m \u001b[1;33m\u001b[0m\u001b[0m\n\u001b[0;32m    377\u001b[0m         \u001b[1;32mif\u001b[0m \u001b[0mself\u001b[0m\u001b[1;33m.\u001b[0m\u001b[0mn_outputs_\u001b[0m \u001b[1;33m==\u001b[0m \u001b[1;36m1\u001b[0m \u001b[1;32mand\u001b[0m \u001b[0mis_classifier\u001b[0m\u001b[1;33m(\u001b[0m\u001b[0mself\u001b[0m\u001b[1;33m)\u001b[0m\u001b[1;33m:\u001b[0m\u001b[1;33m\u001b[0m\u001b[1;33m\u001b[0m\u001b[0m\n",
      "\u001b[1;31mKeyboardInterrupt\u001b[0m: "
     ]
    }
   ],
   "source": [
    "for i in range(10,300,20):\n",
    "    rfr= RandomForestRegressor(n_estimators=i)\n",
    "    rfr.fit(X_train2,y_train2)\n",
    "    print(\"Score on test data with \",i,\"estimators is \",rfr.score(X_test2,y_test2)) \n",
    "    print(\"-----------------------------------------------------------------------\")\n"
   ]
  },
  {
   "cell_type": "code",
   "execution_count": null,
   "metadata": {},
   "outputs": [],
   "source": [
    "from sklearn.model_selection import RandomizedSearchCV"
   ]
  },
  {
   "cell_type": "code",
   "execution_count": null,
   "metadata": {},
   "outputs": [],
   "source": [
    "# Number of trees in random forest\n",
    "n_estimators = [int(x) for x in np.linspace(start = 10, stop = 2000, num = 10)]\n",
    "# Number of features to consider at every split\n",
    "max_features = ['auto', 'sqrt']\n",
    "# Maximum number of levels in tree\n",
    "max_depth = [int(x) for x in np.linspace(10, 110, num = 11)]\n",
    "max_depth.append(None)\n",
    "# Minimum number of samples required to split a node\n",
    "min_samples_split = [2, 5, 10]\n",
    "# Minimum number of samples required at each leaf node\n",
    "min_samples_leaf = [1, 2, 4]\n",
    "# Method of selecting samples for training each tree\n",
    "bootstrap = [True, False]\n",
    "# Create the random grid\n",
    "random_grid = {'n_estimators': n_estimators,\n",
    "               'max_features': max_features,\n",
    "               'max_depth': max_depth,\n",
    "               'min_samples_split': min_samples_split,\n",
    "               'min_samples_leaf': min_samples_leaf,\n",
    "               'bootstrap': bootstrap}\n",
    "print(random_grid)"
   ]
  },
  {
   "cell_type": "code",
   "execution_count": null,
   "metadata": {
    "scrolled": true
   },
   "outputs": [],
   "source": [
    "# Use the random grid to search for best hyperparameters\n",
    "# First create the base model to tune\n",
    "rf = RandomForestRegressor()\n",
    "# Random search of parameters, using 3 fold cross validation, \n",
    "# search across 100 different combinations, and use all available cores\n",
    "rf_random = RandomizedSearchCV(estimator = rf, param_distributions = random_grid, n_iter = 100, cv = 3, verbose=2, random_state=42, n_jobs = -1)\n",
    "# Fit the random search model\n",
    "rf_random.fit(X_train2, y_train2)"
   ]
  },
  {
   "cell_type": "code",
   "execution_count": null,
   "metadata": {},
   "outputs": [],
   "source": [
    "best_random =rf_random.best_params_\n",
    "best_random\n"
   ]
  },
  {
   "cell_type": "code",
   "execution_count": null,
   "metadata": {},
   "outputs": [],
   "source": [
    "rfb= RandomForestRegressor(n_estimators=673,min_samples_split= 5,min_samples_leaf= 1,max_features= 'sqrt',max_depth= 40,bootstrap= True)"
   ]
  },
  {
   "cell_type": "code",
   "execution_count": null,
   "metadata": {},
   "outputs": [],
   "source": [
    "rfb.fit(X_train2,y_train2)\n",
    "rfb.score(X_test2,y_test2)"
   ]
  },
  {
   "cell_type": "code",
   "execution_count": null,
   "metadata": {},
   "outputs": [],
   "source": []
  },
  {
   "cell_type": "markdown",
   "metadata": {
    "executionInfo": {
     "elapsed": 64,
     "status": "ok",
     "timestamp": 1628491942664,
     "user": {
      "displayName": "Abdul Azim Khan",
      "photoUrl": "",
      "userId": "07649404245608822143"
     },
     "user_tz": -330
    },
    "id": "6-Snokil70VR"
   },
   "source": [
    "### Saving the model\n"
   ]
  },
  {
   "cell_type": "code",
   "execution_count": null,
   "metadata": {
    "executionInfo": {
     "elapsed": 65,
     "status": "ok",
     "timestamp": 1628491942666,
     "user": {
      "displayName": "Abdul Azim Khan",
      "photoUrl": "",
      "userId": "07649404245608822143"
     },
     "user_tz": -330
    },
    "id": "snZ-pqPp70Yl"
   },
   "outputs": [],
   "source": [
    "# import pickle"
   ]
  },
  {
   "cell_type": "code",
   "execution_count": null,
   "metadata": {
    "executionInfo": {
     "elapsed": 65,
     "status": "ok",
     "timestamp": 1628491942667,
     "user": {
      "displayName": "Abdul Azim Khan",
      "photoUrl": "",
      "userId": "07649404245608822143"
     },
     "user_tz": -330
    },
    "id": "XCJ-d9hd70cE"
   },
   "outputs": [],
   "source": [
    "# f = open(\"rfr.pickle\",\"wb\")\n",
    "# pickle.dump(rfb,f)\n",
    "# f.close()\n"
   ]
  },
  {
   "cell_type": "code",
   "execution_count": null,
   "metadata": {
    "executionInfo": {
     "elapsed": 65,
     "status": "ok",
     "timestamp": 1628491942668,
     "user": {
      "displayName": "Abdul Azim Khan",
      "photoUrl": "",
      "userId": "07649404245608822143"
     },
     "user_tz": -330
    },
    "id": "-0211_Gi70e4"
   },
   "outputs": [],
   "source": []
  }
 ],
 "metadata": {
  "colab": {
   "authorship_tag": "ABX9TyO/XbvFKq77LUy13PmRtEI/",
   "collapsed_sections": [],
   "mount_file_id": "1DreIFbT2nRTNQq-5j0lmXOEVzAPprgUr",
   "name": "old_car_price_prediction.ipynb",
   "provenance": []
  },
  "kernelspec": {
   "display_name": "Python 3",
   "language": "python",
   "name": "python3"
  },
  "language_info": {
   "codemirror_mode": {
    "name": "ipython",
    "version": 3
   },
   "file_extension": ".py",
   "mimetype": "text/x-python",
   "name": "python",
   "nbconvert_exporter": "python",
   "pygments_lexer": "ipython3",
   "version": "3.8.5"
  }
 },
 "nbformat": 4,
 "nbformat_minor": 1
}
